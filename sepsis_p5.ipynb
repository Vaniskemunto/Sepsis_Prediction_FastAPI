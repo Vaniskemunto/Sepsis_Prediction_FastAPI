{
 "cells": [
  {
   "cell_type": "markdown",
   "id": "03787aa7-48c2-478c-ba13-c5eb01b7264b",
   "metadata": {},
   "source": [
    "## Introduction\n",
    "\n",
    "This project aims to develop a machine learning model for predicting sepsis in patients based on various clinical features. Sepsis is a life-threatening condition that arises when the body's response to an infection causes inflammation throughout the body. Early detection and timely intervention are critical for improving patient outcomes in sepsis cases."
   ]
  },
  {
   "cell_type": "markdown",
   "id": "4afa178f",
   "metadata": {},
   "source": [
    "## Objectives\n",
    "\n",
    "1.Develop a predictive model to identify patients at risk of developing sepsis.\n",
    "\n",
    "2.Utilize machine learning techniques to analyze clinical data and extract patterns indicative of sepsis.\n",
    "\n",
    "3.Provide healthcare professionals with a tool for early detection and intervention in sepsis cases."
   ]
  },
  {
   "cell_type": "markdown",
   "id": "ad05d0c1",
   "metadata": {},
   "source": [
    "## Business Understanding"
   ]
  },
  {
   "cell_type": "markdown",
   "id": "0fcb34b0",
   "metadata": {},
   "source": [
    "**Problem Statement**\n",
    "\n",
    "Sepsis is a leading cause of morbidity and mortality worldwide, with delayed recognition and treatment contributing to poor patient outcomes. The lack of efficient tools for early sepsis detection in clinical settings poses a significant challenge for healthcare providers.\n"
   ]
  },
  {
   "cell_type": "markdown",
   "id": "305abac7",
   "metadata": {},
   "source": [
    "**Stakeholders**\n",
    "\n",
    "-Healthcare Professionals: Physicians, nurses, and other medical staff responsible for patient care.\n",
    "\n",
    "-Patients: Individuals at risk of developing sepsis or already diagnosed with sepsis.\n",
    "\n",
    "-Hospital Administrators: Decision-makers responsible for implementing new technologies and protocols for patient management."
   ]
  },
  {
   "cell_type": "markdown",
   "metadata": {},
   "source": [
    "**Value Proposition**\n",
    "The development of an accurate and efficient sepsis prediction model offers the following benefits:\n",
    "\n",
    "Early Detection: Prompt identification of patients at risk of sepsis allows for timely intervention and improved outcomes.\n",
    "Resource Optimization: Allocation of medical resources and interventions to high-risk patients, optimizing healthcare delivery.\n",
    "Cost Reduction: Preventing sepsis-related complications and reducing the financial burden on healthcare systems."
   ]
  },
  {
   "cell_type": "markdown",
   "id": "12790382",
   "metadata": {},
   "source": [
    "**Research Questions**\n",
    "\n",
    "1.What is the distribution of Sepsis\n",
    "\n",
    "2.What is the distribution of Age\n",
    "\n",
    "3.How Many Patients have Insurance\n",
    "\n",
    "4.Is Blood Pressure Affected by Age\n",
    "\n",
    "5.How many patients in each BMI category have sepsis?\n"
   ]
  },
  {
   "cell_type": "markdown",
   "id": "81a1ffc5",
   "metadata": {},
   "source": [
    "## Hypothesis\n",
    "\n",
    "Null Hypothesis (H0): There is no significant relationship between a patient's age and the likelihood of developing sepsis.\n",
    "\n",
    "Alternative Hypothesis (H1): The age of a patient is a significant factor that influences the likelihood of developing sepsis."
   ]
  },
  {
   "cell_type": "code",
   "execution_count": 6,
   "id": "67a2fba6",
   "metadata": {},
   "outputs": [],
   "source": [
    "## Importations\n",
    "import pandas as pd\n",
    "import numpy as np\n",
    "import os\n",
    "import matplotlib.pyplot as plt\n",
    "import seaborn as sns\n",
    "from scipy import stats\n",
    "import statistics as stat\n",
    "from sklearn.preprocessing import LabelEncoder\n",
    "from imblearn.over_sampling import SMOTE\n",
    "from sklearn.model_selection import train_test_split\n",
    "from sklearn.preprocessing import StandardScaler\n",
    "from sklearn.model_selection import GridSearchCV\n",
    "from xgboost import XGBClassifier\n",
    "from sklearn.ensemble import RandomForestClassifier\n",
    "from sklearn.metrics import *\n",
    "from sklearn.linear_model import LogisticRegression\n",
    "from sklearn.ensemble import RandomForestClassifier, GradientBoostingClassifier\n",
    "from sklearn.svm import SVC\n",
    "from sklearn.naive_bayes import GaussianNB\n",
    "from sklearn.neighbors import KNeighborsClassifier\n",
    "from sklearn.tree import DecisionTreeClassifier\n",
    "from xgboost import XGBClassifier\n",
    "from lightgbm import LGBMClassifier\n",
    "from sklearn.metrics import accuracy_score, precision_score, recall_score, f1_score, roc_auc_score\n",
    "import pickle"
   ]
  },
  {
   "cell_type": "code",
   "execution_count": 7,
   "id": "f92c2a63",
   "metadata": {},
   "outputs": [],
   "source": [
    "# load train and test data\n",
    "train_df = pd.read_csv('datasets\\Paitients_Files_Train.csv')\n",
    "test_df = pd.read_csv('datasets\\Paitients_Files_Test.csv')"
   ]
  },
  {
   "cell_type": "markdown",
   "id": "e7b7cbfe",
   "metadata": {},
   "source": [
    "**Data Understanding**\n",
    "\n",
    "-ID: number to represent patient ID\n",
    "\n",
    "-PRG: Plasma glucose\n",
    "\n",
    "-PL: Blood Work Result-1 (mu U/ml)\n",
    "\n",
    "-PR: Blood Pressure (mmHg)\n",
    "\n",
    "-SK: Blood Work Result-2(mm)\n",
    "\n",
    "-TS: Blood Work Result-3 (muU/ml)\n",
    "\n",
    "-M11: Body mass index (weight in kg/(height in m)^2\n",
    "\n",
    "-BD2: Blood Work Result-4 (mu U/ml)\n",
    "\n",
    "-Age: patients age(years)\n",
    "\n",
    "-Insurance: If a patient holds a valid insurance card\n",
    "\n",
    "-Sepsis: Positive: if a patient in ICU will develop a sepsis , and Negative: otherwis otherwise"
   ]
  },
  {
   "cell_type": "code",
   "execution_count": 9,
   "id": "1e1d4cfc",
   "metadata": {},
   "outputs": [
    {
     "data": {
      "text/plain": [
       "((599, 11), (169, 10))"
      ]
     },
     "execution_count": 9,
     "metadata": {},
     "output_type": "execute_result"
    }
   ],
   "source": [
    "#checking the number of rows an columns for both the train and data set\n",
    "train_df.shape,test_df.shape"
   ]
  },
  {
   "cell_type": "code",
   "execution_count": 10,
   "id": "b9a5726b",
   "metadata": {},
   "outputs": [
    {
     "data": {
      "text/html": [
       "<div>\n",
       "<style scoped>\n",
       "    .dataframe tbody tr th:only-of-type {\n",
       "        vertical-align: middle;\n",
       "    }\n",
       "\n",
       "    .dataframe tbody tr th {\n",
       "        vertical-align: top;\n",
       "    }\n",
       "\n",
       "    .dataframe thead th {\n",
       "        text-align: right;\n",
       "    }\n",
       "</style>\n",
       "<table border=\"1\" class=\"dataframe\">\n",
       "  <thead>\n",
       "    <tr style=\"text-align: right;\">\n",
       "      <th></th>\n",
       "      <th>ID</th>\n",
       "      <th>PRG</th>\n",
       "      <th>PL</th>\n",
       "      <th>PR</th>\n",
       "      <th>SK</th>\n",
       "      <th>TS</th>\n",
       "      <th>M11</th>\n",
       "      <th>BD2</th>\n",
       "      <th>Age</th>\n",
       "      <th>Insurance</th>\n",
       "      <th>Sepssis</th>\n",
       "    </tr>\n",
       "  </thead>\n",
       "  <tbody>\n",
       "    <tr>\n",
       "      <th>0</th>\n",
       "      <td>ICU200010</td>\n",
       "      <td>6</td>\n",
       "      <td>148</td>\n",
       "      <td>72</td>\n",
       "      <td>35</td>\n",
       "      <td>0</td>\n",
       "      <td>33.6</td>\n",
       "      <td>0.627</td>\n",
       "      <td>50</td>\n",
       "      <td>0</td>\n",
       "      <td>Positive</td>\n",
       "    </tr>\n",
       "    <tr>\n",
       "      <th>1</th>\n",
       "      <td>ICU200011</td>\n",
       "      <td>1</td>\n",
       "      <td>85</td>\n",
       "      <td>66</td>\n",
       "      <td>29</td>\n",
       "      <td>0</td>\n",
       "      <td>26.6</td>\n",
       "      <td>0.351</td>\n",
       "      <td>31</td>\n",
       "      <td>0</td>\n",
       "      <td>Negative</td>\n",
       "    </tr>\n",
       "    <tr>\n",
       "      <th>2</th>\n",
       "      <td>ICU200012</td>\n",
       "      <td>8</td>\n",
       "      <td>183</td>\n",
       "      <td>64</td>\n",
       "      <td>0</td>\n",
       "      <td>0</td>\n",
       "      <td>23.3</td>\n",
       "      <td>0.672</td>\n",
       "      <td>32</td>\n",
       "      <td>1</td>\n",
       "      <td>Positive</td>\n",
       "    </tr>\n",
       "    <tr>\n",
       "      <th>3</th>\n",
       "      <td>ICU200013</td>\n",
       "      <td>1</td>\n",
       "      <td>89</td>\n",
       "      <td>66</td>\n",
       "      <td>23</td>\n",
       "      <td>94</td>\n",
       "      <td>28.1</td>\n",
       "      <td>0.167</td>\n",
       "      <td>21</td>\n",
       "      <td>1</td>\n",
       "      <td>Negative</td>\n",
       "    </tr>\n",
       "    <tr>\n",
       "      <th>4</th>\n",
       "      <td>ICU200014</td>\n",
       "      <td>0</td>\n",
       "      <td>137</td>\n",
       "      <td>40</td>\n",
       "      <td>35</td>\n",
       "      <td>168</td>\n",
       "      <td>43.1</td>\n",
       "      <td>2.288</td>\n",
       "      <td>33</td>\n",
       "      <td>1</td>\n",
       "      <td>Positive</td>\n",
       "    </tr>\n",
       "  </tbody>\n",
       "</table>\n",
       "</div>"
      ],
      "text/plain": [
       "          ID  PRG   PL  PR  SK   TS   M11    BD2  Age  Insurance   Sepssis\n",
       "0  ICU200010    6  148  72  35    0  33.6  0.627   50          0  Positive\n",
       "1  ICU200011    1   85  66  29    0  26.6  0.351   31          0  Negative\n",
       "2  ICU200012    8  183  64   0    0  23.3  0.672   32          1  Positive\n",
       "3  ICU200013    1   89  66  23   94  28.1  0.167   21          1  Negative\n",
       "4  ICU200014    0  137  40  35  168  43.1  2.288   33          1  Positive"
      ]
     },
     "execution_count": 10,
     "metadata": {},
     "output_type": "execute_result"
    }
   ],
   "source": [
    "#first five rows of the train data\n",
    "train_df.head()"
   ]
  },
  {
   "cell_type": "code",
   "execution_count": 12,
   "id": "634e4259",
   "metadata": {},
   "outputs": [
    {
     "data": {
      "text/html": [
       "<div>\n",
       "<style scoped>\n",
       "    .dataframe tbody tr th:only-of-type {\n",
       "        vertical-align: middle;\n",
       "    }\n",
       "\n",
       "    .dataframe tbody tr th {\n",
       "        vertical-align: top;\n",
       "    }\n",
       "\n",
       "    .dataframe thead th {\n",
       "        text-align: right;\n",
       "    }\n",
       "</style>\n",
       "<table border=\"1\" class=\"dataframe\">\n",
       "  <thead>\n",
       "    <tr style=\"text-align: right;\">\n",
       "      <th></th>\n",
       "      <th>ID</th>\n",
       "      <th>PRG</th>\n",
       "      <th>PL</th>\n",
       "      <th>PR</th>\n",
       "      <th>SK</th>\n",
       "      <th>TS</th>\n",
       "      <th>M11</th>\n",
       "      <th>BD2</th>\n",
       "      <th>Age</th>\n",
       "      <th>Insurance</th>\n",
       "    </tr>\n",
       "  </thead>\n",
       "  <tbody>\n",
       "    <tr>\n",
       "      <th>0</th>\n",
       "      <td>ICU200609</td>\n",
       "      <td>1</td>\n",
       "      <td>109</td>\n",
       "      <td>38</td>\n",
       "      <td>18</td>\n",
       "      <td>120</td>\n",
       "      <td>23.1</td>\n",
       "      <td>0.407</td>\n",
       "      <td>26</td>\n",
       "      <td>1</td>\n",
       "    </tr>\n",
       "    <tr>\n",
       "      <th>1</th>\n",
       "      <td>ICU200610</td>\n",
       "      <td>1</td>\n",
       "      <td>108</td>\n",
       "      <td>88</td>\n",
       "      <td>19</td>\n",
       "      <td>0</td>\n",
       "      <td>27.1</td>\n",
       "      <td>0.400</td>\n",
       "      <td>24</td>\n",
       "      <td>1</td>\n",
       "    </tr>\n",
       "    <tr>\n",
       "      <th>2</th>\n",
       "      <td>ICU200611</td>\n",
       "      <td>6</td>\n",
       "      <td>96</td>\n",
       "      <td>0</td>\n",
       "      <td>0</td>\n",
       "      <td>0</td>\n",
       "      <td>23.7</td>\n",
       "      <td>0.190</td>\n",
       "      <td>28</td>\n",
       "      <td>1</td>\n",
       "    </tr>\n",
       "    <tr>\n",
       "      <th>3</th>\n",
       "      <td>ICU200612</td>\n",
       "      <td>1</td>\n",
       "      <td>124</td>\n",
       "      <td>74</td>\n",
       "      <td>36</td>\n",
       "      <td>0</td>\n",
       "      <td>27.8</td>\n",
       "      <td>0.100</td>\n",
       "      <td>30</td>\n",
       "      <td>1</td>\n",
       "    </tr>\n",
       "    <tr>\n",
       "      <th>4</th>\n",
       "      <td>ICU200613</td>\n",
       "      <td>7</td>\n",
       "      <td>150</td>\n",
       "      <td>78</td>\n",
       "      <td>29</td>\n",
       "      <td>126</td>\n",
       "      <td>35.2</td>\n",
       "      <td>0.692</td>\n",
       "      <td>54</td>\n",
       "      <td>0</td>\n",
       "    </tr>\n",
       "  </tbody>\n",
       "</table>\n",
       "</div>"
      ],
      "text/plain": [
       "          ID  PRG   PL  PR  SK   TS   M11    BD2  Age  Insurance\n",
       "0  ICU200609    1  109  38  18  120  23.1  0.407   26          1\n",
       "1  ICU200610    1  108  88  19    0  27.1  0.400   24          1\n",
       "2  ICU200611    6   96   0   0    0  23.7  0.190   28          1\n",
       "3  ICU200612    1  124  74  36    0  27.8  0.100   30          1\n",
       "4  ICU200613    7  150  78  29  126  35.2  0.692   54          0"
      ]
     },
     "execution_count": 12,
     "metadata": {},
     "output_type": "execute_result"
    }
   ],
   "source": [
    "#first five rows of test data\n",
    "test_df.head()"
   ]
  },
  {
   "cell_type": "code",
   "execution_count": 13,
   "id": "734deb4e",
   "metadata": {},
   "outputs": [
    {
     "name": "stdout",
     "output_type": "stream",
     "text": [
      "<class 'pandas.core.frame.DataFrame'>\n",
      "RangeIndex: 599 entries, 0 to 598\n",
      "Data columns (total 11 columns):\n",
      " #   Column     Non-Null Count  Dtype  \n",
      "---  ------     --------------  -----  \n",
      " 0   ID         599 non-null    object \n",
      " 1   PRG        599 non-null    int64  \n",
      " 2   PL         599 non-null    int64  \n",
      " 3   PR         599 non-null    int64  \n",
      " 4   SK         599 non-null    int64  \n",
      " 5   TS         599 non-null    int64  \n",
      " 6   M11        599 non-null    float64\n",
      " 7   BD2        599 non-null    float64\n",
      " 8   Age        599 non-null    int64  \n",
      " 9   Insurance  599 non-null    int64  \n",
      " 10  Sepssis    599 non-null    object \n",
      "dtypes: float64(2), int64(7), object(2)\n",
      "memory usage: 51.6+ KB\n"
     ]
    }
   ],
   "source": [
    "train_df.info()"
   ]
  },
  {
   "cell_type": "markdown",
   "id": "095cd208",
   "metadata": {},
   "source": [
    "No missing values but Sepsis is wrongly mispelled as Sepssis."
   ]
  },
  {
   "cell_type": "code",
   "execution_count": 15,
   "id": "3519f128",
   "metadata": {},
   "outputs": [
    {
     "name": "stdout",
     "output_type": "stream",
     "text": [
      "<class 'pandas.core.frame.DataFrame'>\n",
      "RangeIndex: 169 entries, 0 to 168\n",
      "Data columns (total 10 columns):\n",
      " #   Column     Non-Null Count  Dtype  \n",
      "---  ------     --------------  -----  \n",
      " 0   ID         169 non-null    object \n",
      " 1   PRG        169 non-null    int64  \n",
      " 2   PL         169 non-null    int64  \n",
      " 3   PR         169 non-null    int64  \n",
      " 4   SK         169 non-null    int64  \n",
      " 5   TS         169 non-null    int64  \n",
      " 6   M11        169 non-null    float64\n",
      " 7   BD2        169 non-null    float64\n",
      " 8   Age        169 non-null    int64  \n",
      " 9   Insurance  169 non-null    int64  \n",
      "dtypes: float64(2), int64(7), object(1)\n",
      "memory usage: 13.3+ KB\n"
     ]
    }
   ],
   "source": [
    "test_df.info()"
   ]
  },
  {
   "cell_type": "markdown",
   "id": "ac45a2eb",
   "metadata": {},
   "source": [
    "The sepsis column is missing unlike in the train dataset"
   ]
  },
  {
   "cell_type": "code",
   "execution_count": 16,
   "id": "2061fe25",
   "metadata": {},
   "outputs": [
    {
     "data": {
      "text/html": [
       "<div>\n",
       "<style scoped>\n",
       "    .dataframe tbody tr th:only-of-type {\n",
       "        vertical-align: middle;\n",
       "    }\n",
       "\n",
       "    .dataframe tbody tr th {\n",
       "        vertical-align: top;\n",
       "    }\n",
       "\n",
       "    .dataframe thead th {\n",
       "        text-align: right;\n",
       "    }\n",
       "</style>\n",
       "<table border=\"1\" class=\"dataframe\">\n",
       "  <thead>\n",
       "    <tr style=\"text-align: right;\">\n",
       "      <th></th>\n",
       "      <th>count</th>\n",
       "      <th>mean</th>\n",
       "      <th>std</th>\n",
       "      <th>min</th>\n",
       "      <th>25%</th>\n",
       "      <th>50%</th>\n",
       "      <th>75%</th>\n",
       "      <th>max</th>\n",
       "    </tr>\n",
       "  </thead>\n",
       "  <tbody>\n",
       "    <tr>\n",
       "      <th>PRG</th>\n",
       "      <td>599.0</td>\n",
       "      <td>3.824708</td>\n",
       "      <td>3.362839</td>\n",
       "      <td>0.000</td>\n",
       "      <td>1.000</td>\n",
       "      <td>3.000</td>\n",
       "      <td>6.000</td>\n",
       "      <td>17.00</td>\n",
       "    </tr>\n",
       "    <tr>\n",
       "      <th>PL</th>\n",
       "      <td>599.0</td>\n",
       "      <td>120.153589</td>\n",
       "      <td>32.682364</td>\n",
       "      <td>0.000</td>\n",
       "      <td>99.000</td>\n",
       "      <td>116.000</td>\n",
       "      <td>140.000</td>\n",
       "      <td>198.00</td>\n",
       "    </tr>\n",
       "    <tr>\n",
       "      <th>PR</th>\n",
       "      <td>599.0</td>\n",
       "      <td>68.732888</td>\n",
       "      <td>19.335675</td>\n",
       "      <td>0.000</td>\n",
       "      <td>64.000</td>\n",
       "      <td>70.000</td>\n",
       "      <td>80.000</td>\n",
       "      <td>122.00</td>\n",
       "    </tr>\n",
       "    <tr>\n",
       "      <th>SK</th>\n",
       "      <td>599.0</td>\n",
       "      <td>20.562604</td>\n",
       "      <td>16.017622</td>\n",
       "      <td>0.000</td>\n",
       "      <td>0.000</td>\n",
       "      <td>23.000</td>\n",
       "      <td>32.000</td>\n",
       "      <td>99.00</td>\n",
       "    </tr>\n",
       "    <tr>\n",
       "      <th>TS</th>\n",
       "      <td>599.0</td>\n",
       "      <td>79.460768</td>\n",
       "      <td>116.576176</td>\n",
       "      <td>0.000</td>\n",
       "      <td>0.000</td>\n",
       "      <td>36.000</td>\n",
       "      <td>123.500</td>\n",
       "      <td>846.00</td>\n",
       "    </tr>\n",
       "    <tr>\n",
       "      <th>M11</th>\n",
       "      <td>599.0</td>\n",
       "      <td>31.920033</td>\n",
       "      <td>8.008227</td>\n",
       "      <td>0.000</td>\n",
       "      <td>27.100</td>\n",
       "      <td>32.000</td>\n",
       "      <td>36.550</td>\n",
       "      <td>67.10</td>\n",
       "    </tr>\n",
       "    <tr>\n",
       "      <th>BD2</th>\n",
       "      <td>599.0</td>\n",
       "      <td>0.481187</td>\n",
       "      <td>0.337552</td>\n",
       "      <td>0.078</td>\n",
       "      <td>0.248</td>\n",
       "      <td>0.383</td>\n",
       "      <td>0.647</td>\n",
       "      <td>2.42</td>\n",
       "    </tr>\n",
       "    <tr>\n",
       "      <th>Age</th>\n",
       "      <td>599.0</td>\n",
       "      <td>33.290484</td>\n",
       "      <td>11.828446</td>\n",
       "      <td>21.000</td>\n",
       "      <td>24.000</td>\n",
       "      <td>29.000</td>\n",
       "      <td>40.000</td>\n",
       "      <td>81.00</td>\n",
       "    </tr>\n",
       "    <tr>\n",
       "      <th>Insurance</th>\n",
       "      <td>599.0</td>\n",
       "      <td>0.686144</td>\n",
       "      <td>0.464447</td>\n",
       "      <td>0.000</td>\n",
       "      <td>0.000</td>\n",
       "      <td>1.000</td>\n",
       "      <td>1.000</td>\n",
       "      <td>1.00</td>\n",
       "    </tr>\n",
       "  </tbody>\n",
       "</table>\n",
       "</div>"
      ],
      "text/plain": [
       "           count        mean         std     min     25%      50%      75%  \\\n",
       "PRG        599.0    3.824708    3.362839   0.000   1.000    3.000    6.000   \n",
       "PL         599.0  120.153589   32.682364   0.000  99.000  116.000  140.000   \n",
       "PR         599.0   68.732888   19.335675   0.000  64.000   70.000   80.000   \n",
       "SK         599.0   20.562604   16.017622   0.000   0.000   23.000   32.000   \n",
       "TS         599.0   79.460768  116.576176   0.000   0.000   36.000  123.500   \n",
       "M11        599.0   31.920033    8.008227   0.000  27.100   32.000   36.550   \n",
       "BD2        599.0    0.481187    0.337552   0.078   0.248    0.383    0.647   \n",
       "Age        599.0   33.290484   11.828446  21.000  24.000   29.000   40.000   \n",
       "Insurance  599.0    0.686144    0.464447   0.000   0.000    1.000    1.000   \n",
       "\n",
       "              max  \n",
       "PRG         17.00  \n",
       "PL         198.00  \n",
       "PR         122.00  \n",
       "SK          99.00  \n",
       "TS         846.00  \n",
       "M11         67.10  \n",
       "BD2          2.42  \n",
       "Age         81.00  \n",
       "Insurance    1.00  "
      ]
     },
     "execution_count": 16,
     "metadata": {},
     "output_type": "execute_result"
    }
   ],
   "source": [
    "# Descriptive statistics of the train dataset\n",
    "train_df.describe().T"
   ]
  },
  {
   "cell_type": "code",
   "execution_count": 17,
   "id": "7bc3ab41",
   "metadata": {},
   "outputs": [
    {
     "data": {
      "text/plain": [
       "Sepssis\n",
       "Negative    391\n",
       "Positive    208\n",
       "Name: count, dtype: int64"
      ]
     },
     "execution_count": 17,
     "metadata": {},
     "output_type": "execute_result"
    }
   ],
   "source": [
    "# Categories in the Sepssis column\n",
    "train_df['Sepssis'].value_counts()"
   ]
  },
  {
   "cell_type": "markdown",
   "id": "37361415",
   "metadata": {},
   "source": [
    "## Exploratory Data Analysis"
   ]
  },
  {
   "cell_type": "markdown",
   "id": "53e8c53b",
   "metadata": {},
   "source": [
    "1. What the distribution of sepsis?"
   ]
  },
  {
   "cell_type": "code",
   "execution_count": 19,
   "id": "b97c7442",
   "metadata": {},
   "outputs": [
    {
     "data": {
      "image/png": "[encoded data removed]",
      "text/plain": [
       "<Figure size 640x480 with 1 Axes>"
      ]
     },
     "metadata": {},
     "output_type": "display_data"
    }
   ],
   "source": [
    "# Distribution of Sepssis\n",
    "sns.countplot(x='Sepssis',data=train_df,color='green')\n",
    "plt.show()"
   ]
  },
  {
   "cell_type": "markdown",
   "id": "12d0d50b",
   "metadata": {},
   "source": [
    "There are 391 negative cases which are the patients who did not develop sepsis during their stay in the intensive Care Unit(ICU). The positive cases are 208, which are the patients who developed sepsis during their stay in the ICU."
   ]
  },
  {
   "cell_type": "markdown",
   "id": "daab601f",
   "metadata": {},
   "source": [
    "## 2. What is the distribution of ages for patients captured in the data?"
   ]
  },
  {
   "cell_type": "code",
   "execution_count": 21,
   "id": "7a6f7956",
   "metadata": {},
   "outputs": [
    {
     "data": {
      "image/png": "[encoded data removed]",
      "text/plain": [
       "<Figure size 700x500 with 1 Axes>"
      ]
     },
     "metadata": {},
     "output_type": "display_data"
    },
    {
     "name": "stdout",
     "output_type": "stream",
     "text": [
      "Mean Age: 33.29\n",
      "Median Age: 29.0\n",
      "Minimum Age: 21\n",
      "Maximum Age: 81\n"
     ]
    }
   ],
   "source": [
    "# We plot the distribution of ages for all the patients\n",
    "plt.figure(figsize=(7,5))\n",
    "plt.hist(train_df['Age'],bins=7,range = (20,90),edgecolor='k',alpha=0.7,color='green')\n",
    "plt.title(\"Distribution of Patients Age\")\n",
    "plt.xlabel(\"Age\")\n",
    "plt.ylabel(\"Frequency\")\n",
    "plt.show()\n",
    "\n",
    "# Calculating the summary statistics of the age column\n",
    "mean_age = train_df['Age'].mean()\n",
    "median_age = train_df['Age'].median()\n",
    "min_age = train_df['Age'].min()\n",
    "max_age = train_df['Age'].max()\n",
    "\n",
    "# Print summary statistics\n",
    "print(f\"Mean Age: {mean_age:.2f}\")\n",
    "print(f\"Median Age: {median_age}\")\n",
    "print(f\"Minimum Age: {min_age}\")\n",
    "print(f\"Maximum Age: {max_age}\")"
   ]
  },
  {
   "cell_type": "markdown",
   "id": "2064def5",
   "metadata": {},
   "source": [
    "## 3. How many patients have insurance?"
   ]
  },
  {
   "cell_type": "code",
   "execution_count": 22,
   "id": "72f3724f",
   "metadata": {},
   "outputs": [
    {
     "data": {
      "image/png": "[encoded data removed]",
      "text/plain": [
       "<Figure size 640x480 with 1 Axes>"
      ]
     },
     "metadata": {},
     "output_type": "display_data"
    }
   ],
   "source": [
    "#We count the number of patients with insurance\n",
    "insurance_count = train_df['Insurance'].value_counts()\n",
    "labels = ['Insurance','No Insurance']\n",
    "plt.title('Distribution of Patients by Insurance')\n",
    "# We plot the pie chart\n",
    "plt.pie(insurance_count,labels=labels,autopct='%1.1f%%', startangle=90)\n",
    "plt.show()"
   ]
  },
  {
   "cell_type": "markdown",
   "id": "2ba9ea91",
   "metadata": {},
   "source": [
    "## 4. Is Blood Pressure affected by Age?"
   ]
  },
  {
   "cell_type": "code",
   "execution_count": 23,
   "id": "720bf5de",
   "metadata": {},
   "outputs": [
    {
     "data": {
      "image/png": "[encoded data removed]",
      "text/plain": [
       "<Figure size 800x700 with 1 Axes>"
      ]
     },
     "metadata": {},
     "output_type": "display_data"
    }
   ],
   "source": [
    "plt.figure(figsize=(8,7))\n",
    "plt.scatter(train_df['Age'],train_df['PR'],alpha=0.7)\n",
    "plt.xlabel('Age')\n",
    "plt.ylabel('Blood Pressure')\n",
    "plt.title(\"Scatter Plot of Age vs Blood Pressure\")\n",
    "plt.show()"
   ]
  },
  {
   "cell_type": "markdown",
   "id": "10954afe",
   "metadata": {},
   "source": [
    "Most of the Values lie between 40 and 80. This represents the systolic or diastolic blood pressure values. Most of the values cluster within this range which indicates that blood pressure tends to be within a relatively normal or typical range for a large portion of the population in the dataset."
   ]
  },
  {
   "cell_type": "markdown",
   "id": "6b39a1ca",
   "metadata": {},
   "source": [
    "## Hypothesis Testing"
   ]
  },
  {
   "cell_type": "code",
   "execution_count": 24,
   "id": "e33459b5",
   "metadata": {},
   "outputs": [],
   "source": [
    "# We define Negative and Positive Sepsis Cases\n",
    "Sepsis_Negative = train_df[train_df['Sepssis']=='Negative']\n",
    "Sepsis_Positive = train_df[train_df['Sepssis']=='Positive']"
   ]
  },
  {
   "cell_type": "code",
   "execution_count": 25,
   "id": "6e525472",
   "metadata": {},
   "outputs": [],
   "source": [
    "t,p = stats.ttest_ind(Sepsis_Negative['Age'],Sepsis_Positive['Age'],equal_var=False)"
   ]
  },
  {
   "cell_type": "code",
   "execution_count": 26,
   "id": "dd98bc12",
   "metadata": {},
   "outputs": [
    {
     "name": "stdout",
     "output_type": "stream",
     "text": [
      "1.0859592786305662e-07\n"
     ]
    }
   ],
   "source": [
    "print(p)"
   ]
  },
  {
   "cell_type": "code",
   "execution_count": 27,
   "id": "98836b30",
   "metadata": {},
   "outputs": [],
   "source": [
    "# Separate data into two groups: patients with sepsis (Sepsis: Positive) and without sepsis (Sepsis: Negative)\n",
    "sepsis_positive = train_df[train_df['Sepssis'] == 'Positive']['Age']\n",
    "sepsis_negative = train_df[train_df['Sepssis'] == 'Negative']['Age']"
   ]
  },
  {
   "cell_type": "code",
   "execution_count": 28,
   "id": "6324bb72",
   "metadata": {},
   "outputs": [],
   "source": [
    "# Set significance level (alpha)\n",
    "alpha = 0.05\n",
    "\n",
    " # Perform a two-sample independent t-test\n",
    "t_stat, p_value = stats.ttest_ind(sepsis_positive, sepsis_negative, equal_var=False)"
   ]
  },
  {
   "cell_type": "code",
   "execution_count": 29,
   "id": "5831dc38",
   "metadata": {},
   "outputs": [
    {
     "name": "stdout",
     "output_type": "stream",
     "text": [
      "T-statistic: 5.398028835705048\n",
      "P-value: 1.0859592786305662e-07\n"
     ]
    }
   ],
   "source": [
    "# Print the t-statistic and p-value\n",
    "print(f\"T-statistic: {t_stat}\")\n",
    "print(f\"P-value: {p_value}\")"
   ]
  },
  {
   "cell_type": "code",
   "execution_count": 30,
   "id": "fbc7e6b5",
   "metadata": {},
   "outputs": [
    {
     "name": "stdout",
     "output_type": "stream",
     "text": [
      "Reject the null hypothesis. There is a significant difference in age between patients with and without sepsis.\n"
     ]
    }
   ],
   "source": [
    "# Compare p-value to alpha to make a decision\n",
    "if p_value < alpha:\n",
    "    print(\"Reject the null hypothesis. There is a significant difference in age between patients with and without sepsis.\")\n",
    "else:\n",
    "    print(\"Fail to reject the null hypothesis. There is no significant difference in age between patients with and without sepsis.\")"
   ]
  },
  {
   "cell_type": "code",
   "execution_count": 32,
   "id": "403c588c",
   "metadata": {},
   "outputs": [
    {
     "data": {
      "text/plain": [
       "<Axes: xlabel='Age', ylabel='Count'>"
      ]
     },
     "execution_count": 32,
     "metadata": {},
     "output_type": "execute_result"
    },
    {
     "data": {
      "image/png": "[encoded data removed]",
      "text/plain": [
       "<Figure size 640x480 with 1 Axes>"
      ]
     },
     "metadata": {},
     "output_type": "display_data"
    }
   ],
   "source": [
    "sns.histplot(data=train_df,x='Age',hue='Sepssis',kde=True)"
   ]
  },
  {
   "cell_type": "code",
   "execution_count": null,
   "id": "0d919553",
   "metadata": {},
   "outputs": [],
   "source": []
  }
 ],
 "metadata": {
  "kernelspec": {
   "display_name": "Python 3 (ipykernel)",
   "language": "python",
   "name": "python3"
  },
  "language_info": {
   "codemirror_mode": {
    "name": "ipython",
    "version": 3
   },
   "file_extension": ".py",
   "mimetype": "text/x-python",
   "name": "python",
   "nbconvert_exporter": "python",
   "pygments_lexer": "ipython3",
   "version": "3.11.5"
  }
 },
 "nbformat": 4,
 "nbformat_minor": 5
}
