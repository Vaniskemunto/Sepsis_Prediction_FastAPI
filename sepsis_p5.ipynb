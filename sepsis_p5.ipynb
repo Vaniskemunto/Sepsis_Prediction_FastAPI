{
 "cells": [
  {
   "cell_type": "markdown",
   "id": "03787aa7-48c2-478c-ba13-c5eb01b7264b",
   "metadata": {},
   "source": [
    "## Introduction\n",
    "\n",
    "This project aims to develop a machine learning model for predicting sepsis in patients based on various clinical features. Sepsis is a life-threatening condition that arises when the body's response to an infection causes inflammation throughout the body. Early detection and timely intervention are critical for improving patient outcomes in sepsis cases."
   ]
  },
  {
   "cell_type": "markdown",
   "id": "4afa178f",
   "metadata": {},
   "source": [
    "## Objectives\n",
    "\n",
    "1.Develop a predictive model to identify patients at risk of developing sepsis.\n",
    "\n",
    "2.Utilize machine learning techniques to analyze clinical data and extract patterns indicative of sepsis.\n",
    "\n",
    "3.Provide healthcare professionals with a tool for early detection and intervention in sepsis cases."
   ]
  },
  {
   "cell_type": "markdown",
   "id": "ad05d0c1",
   "metadata": {},
   "source": [
    "## Business Understanding"
   ]
  },
  {
   "cell_type": "markdown",
   "id": "0fcb34b0",
   "metadata": {},
   "source": [
    "**Problem Statement**\n",
    "\n",
    "Sepsis is a leading cause of morbidity and mortality worldwide, with delayed recognition and treatment contributing to poor patient outcomes. The lack of efficient tools for early sepsis detection in clinical settings poses a significant challenge for healthcare providers.\n"
   ]
  },
  {
   "cell_type": "markdown",
   "id": "305abac7",
   "metadata": {},
   "source": [
    "**Stakeholders**\n",
    "\n",
    "-Healthcare Professionals: Physicians, nurses, and other medical staff responsible for patient care.\n",
    "\n",
    "-Patients: Individuals at risk of developing sepsis or already diagnosed with sepsis.\n",
    "\n",
    "-Hospital Administrators: Decision-makers responsible for implementing new technologies and protocols for patient management."
   ]
  },
  {
   "cell_type": "markdown",
   "metadata": {},
   "source": [
    "**Value Proposition**\n",
    "The development of an accurate and efficient sepsis prediction model offers the following benefits:\n",
    "\n",
    "Early Detection: Prompt identification of patients at risk of sepsis allows for timely intervention and improved outcomes.\n",
    "Resource Optimization: Allocation of medical resources and interventions to high-risk patients, optimizing healthcare delivery.\n",
    "Cost Reduction: Preventing sepsis-related complications and reducing the financial burden on healthcare systems."
   ]
  },
  {
   "cell_type": "markdown",
   "id": "12790382",
   "metadata": {},
   "source": [
    "**Analytica Questions**\n",
    "\n",
    "1.What is the distribution of Sepsis\n",
    "\n",
    "2.What is the distribution of Age\n",
    "\n",
    "3.How Many Patients have Insurance\n",
    "\n",
    "4.Is Blood Pressure Affected by Age\n",
    "\n",
    "5.How many patients in each BMI category have sepsis?\n"
   ]
  },
  {
   "cell_type": "markdown",
   "id": "81a1ffc5",
   "metadata": {},
   "source": [
    "## Hypothesis\n",
    "\n",
    "Null Hypothesis (H0): There is no significant relationship between a patient's age and the likelihood of developing sepsis.\n",
    "\n",
    "Alternative Hypothesis (H1): The age of a patient is a significant factor that influences the likelihood of developing sepsis."
   ]
  },
  {
   "cell_type": "code",
   "execution_count": 329,
   "id": "4f9300bf",
   "metadata": {},
   "outputs": [],
   "source": [
    "# Data Processing\n",
    "import pandas as pd\n",
    "import numpy as np\n",
    "import seaborn as sns\n",
    "import matplotlib.pyplot as plt\n",
    "import os\n",
    "\n",
    "from sklearn.impute import SimpleImputer\n",
    "from sklearn.preprocessing import LabelEncoder, StandardScaler\n",
    "from imblearn.over_sampling import SMOTE\n",
    "import scipy.stats as stats\n",
    "from scipy.stats import skew\n",
    "\n",
    "# Data Splitting and Models\n",
    "from sklearn.model_selection import train_test_split, GridSearchCV\n",
    "from sklearn.linear_model import LogisticRegression\n",
    "from sklearn.ensemble import RandomForestClassifier\n",
    "from sklearn.tree import DecisionTreeClassifier\n",
    "from xgboost import XGBClassifier\n",
    "from sklearn.naive_bayes import GaussianNB\n",
    "\n",
    "# Evaluation Metrics\n",
    "from sklearn.metrics import f1_score, roc_curve, auc, roc_auc_score\n",
    "import pickle\n",
    "\n",
    "# Saving Model\n",
    "from joblib import dump\n",
    "\n",
    "# Others\n",
    "import shap\n",
    "from sklearn.metrics import confusion_matrix\n",
    "from sklearn.feature_selection import RFE\n",
    "from sklearn.linear_model import SGDClassifier\n",
    "import warnings\n",
    "\n",
    "# Set seaborn defaults and suppress warnings\n",
    "sns.set()\n",
    "warnings.filterwarnings('ignore')"
   ]
  },
  {
   "cell_type": "code",
   "execution_count": 330,
   "id": "f92c2a63",
   "metadata": {},
   "outputs": [],
   "source": [
    "# load train and test data\n",
    "train_df = pd.read_csv('datasets\\Paitients_Files_Train.csv')\n",
    "test_df = pd.read_csv('datasets\\Paitients_Files_Test.csv')"
   ]
  },
  {
   "cell_type": "markdown",
   "id": "e7b7cbfe",
   "metadata": {},
   "source": [
    "**Data Understanding**\n",
    "\n",
    "-ID: number to represent patient ID\n",
    "\n",
    "-PRG: Plasma glucose\n",
    "\n",
    "-PL: Blood Work Result-1 (mu U/ml)\n",
    "\n",
    "-PR: Blood Pressure (mmHg)\n",
    "\n",
    "-SK: Blood Work Result-2(mm)\n",
    "\n",
    "-TS: Blood Work Result-3 (muU/ml)\n",
    "\n",
    "-M11: Body mass index (weight in kg/(height in m)^2\n",
    "\n",
    "-BD2: Blood Work Result-4 (mu U/ml)\n",
    "\n",
    "-Age: patients age(years)\n",
    "\n",
    "-Insurance: If a patient holds a valid insurance card\n",
    "\n",
    "-Sepsis: Positive: if a patient in ICU will develop a sepsis , and Negative: otherwis otherwise"
   ]
  },
  {
   "cell_type": "code",
   "execution_count": 331,
   "id": "1e1d4cfc",
   "metadata": {},
   "outputs": [
    {
     "data": {
      "text/plain": [
       "((599, 11), (169, 10))"
      ]
     },
     "execution_count": 331,
     "metadata": {},
     "output_type": "execute_result"
    }
   ],
   "source": [
    "#checking the number of rows an columns for both the train and data set\n",
    "train_df.shape,test_df.shape"
   ]
  },
  {
   "cell_type": "code",
   "execution_count": 332,
   "id": "b9a5726b",
   "metadata": {},
   "outputs": [
    {
     "data": {
      "text/html": [
       "<div>\n",
       "<style scoped>\n",
       "    .dataframe tbody tr th:only-of-type {\n",
       "        vertical-align: middle;\n",
       "    }\n",
       "\n",
       "    .dataframe tbody tr th {\n",
       "        vertical-align: top;\n",
       "    }\n",
       "\n",
       "    .dataframe thead th {\n",
       "        text-align: right;\n",
       "    }\n",
       "</style>\n",
       "<table border=\"1\" class=\"dataframe\">\n",
       "  <thead>\n",
       "    <tr style=\"text-align: right;\">\n",
       "      <th></th>\n",
       "      <th>ID</th>\n",
       "      <th>PRG</th>\n",
       "      <th>PL</th>\n",
       "      <th>PR</th>\n",
       "      <th>SK</th>\n",
       "      <th>TS</th>\n",
       "      <th>M11</th>\n",
       "      <th>BD2</th>\n",
       "      <th>Age</th>\n",
       "      <th>Insurance</th>\n",
       "      <th>Sepssis</th>\n",
       "    </tr>\n",
       "  </thead>\n",
       "  <tbody>\n",
       "    <tr>\n",
       "      <th>0</th>\n",
       "      <td>ICU200010</td>\n",
       "      <td>6</td>\n",
       "      <td>148</td>\n",
       "      <td>72</td>\n",
       "      <td>35</td>\n",
       "      <td>0</td>\n",
       "      <td>33.6</td>\n",
       "      <td>0.627</td>\n",
       "      <td>50</td>\n",
       "      <td>0</td>\n",
       "      <td>Positive</td>\n",
       "    </tr>\n",
       "    <tr>\n",
       "      <th>1</th>\n",
       "      <td>ICU200011</td>\n",
       "      <td>1</td>\n",
       "      <td>85</td>\n",
       "      <td>66</td>\n",
       "      <td>29</td>\n",
       "      <td>0</td>\n",
       "      <td>26.6</td>\n",
       "      <td>0.351</td>\n",
       "      <td>31</td>\n",
       "      <td>0</td>\n",
       "      <td>Negative</td>\n",
       "    </tr>\n",
       "    <tr>\n",
       "      <th>2</th>\n",
       "      <td>ICU200012</td>\n",
       "      <td>8</td>\n",
       "      <td>183</td>\n",
       "      <td>64</td>\n",
       "      <td>0</td>\n",
       "      <td>0</td>\n",
       "      <td>23.3</td>\n",
       "      <td>0.672</td>\n",
       "      <td>32</td>\n",
       "      <td>1</td>\n",
       "      <td>Positive</td>\n",
       "    </tr>\n",
       "    <tr>\n",
       "      <th>3</th>\n",
       "      <td>ICU200013</td>\n",
       "      <td>1</td>\n",
       "      <td>89</td>\n",
       "      <td>66</td>\n",
       "      <td>23</td>\n",
       "      <td>94</td>\n",
       "      <td>28.1</td>\n",
       "      <td>0.167</td>\n",
       "      <td>21</td>\n",
       "      <td>1</td>\n",
       "      <td>Negative</td>\n",
       "    </tr>\n",
       "    <tr>\n",
       "      <th>4</th>\n",
       "      <td>ICU200014</td>\n",
       "      <td>0</td>\n",
       "      <td>137</td>\n",
       "      <td>40</td>\n",
       "      <td>35</td>\n",
       "      <td>168</td>\n",
       "      <td>43.1</td>\n",
       "      <td>2.288</td>\n",
       "      <td>33</td>\n",
       "      <td>1</td>\n",
       "      <td>Positive</td>\n",
       "    </tr>\n",
       "  </tbody>\n",
       "</table>\n",
       "</div>"
      ],
      "text/plain": [
       "          ID  PRG   PL  PR  SK   TS   M11    BD2  Age  Insurance   Sepssis\n",
       "0  ICU200010    6  148  72  35    0  33.6  0.627   50          0  Positive\n",
       "1  ICU200011    1   85  66  29    0  26.6  0.351   31          0  Negative\n",
       "2  ICU200012    8  183  64   0    0  23.3  0.672   32          1  Positive\n",
       "3  ICU200013    1   89  66  23   94  28.1  0.167   21          1  Negative\n",
       "4  ICU200014    0  137  40  35  168  43.1  2.288   33          1  Positive"
      ]
     },
     "execution_count": 332,
     "metadata": {},
     "output_type": "execute_result"
    }
   ],
   "source": [
    "#first five rows of the train data\n",
    "train_df.head()"
   ]
  },
  {
   "cell_type": "code",
   "execution_count": 333,
   "id": "634e4259",
   "metadata": {},
   "outputs": [
    {
     "data": {
      "text/html": [
       "<div>\n",
       "<style scoped>\n",
       "    .dataframe tbody tr th:only-of-type {\n",
       "        vertical-align: middle;\n",
       "    }\n",
       "\n",
       "    .dataframe tbody tr th {\n",
       "        vertical-align: top;\n",
       "    }\n",
       "\n",
       "    .dataframe thead th {\n",
       "        text-align: right;\n",
       "    }\n",
       "</style>\n",
       "<table border=\"1\" class=\"dataframe\">\n",
       "  <thead>\n",
       "    <tr style=\"text-align: right;\">\n",
       "      <th></th>\n",
       "      <th>ID</th>\n",
       "      <th>PRG</th>\n",
       "      <th>PL</th>\n",
       "      <th>PR</th>\n",
       "      <th>SK</th>\n",
       "      <th>TS</th>\n",
       "      <th>M11</th>\n",
       "      <th>BD2</th>\n",
       "      <th>Age</th>\n",
       "      <th>Insurance</th>\n",
       "    </tr>\n",
       "  </thead>\n",
       "  <tbody>\n",
       "    <tr>\n",
       "      <th>0</th>\n",
       "      <td>ICU200609</td>\n",
       "      <td>1</td>\n",
       "      <td>109</td>\n",
       "      <td>38</td>\n",
       "      <td>18</td>\n",
       "      <td>120</td>\n",
       "      <td>23.1</td>\n",
       "      <td>0.407</td>\n",
       "      <td>26</td>\n",
       "      <td>1</td>\n",
       "    </tr>\n",
       "    <tr>\n",
       "      <th>1</th>\n",
       "      <td>ICU200610</td>\n",
       "      <td>1</td>\n",
       "      <td>108</td>\n",
       "      <td>88</td>\n",
       "      <td>19</td>\n",
       "      <td>0</td>\n",
       "      <td>27.1</td>\n",
       "      <td>0.400</td>\n",
       "      <td>24</td>\n",
       "      <td>1</td>\n",
       "    </tr>\n",
       "    <tr>\n",
       "      <th>2</th>\n",
       "      <td>ICU200611</td>\n",
       "      <td>6</td>\n",
       "      <td>96</td>\n",
       "      <td>0</td>\n",
       "      <td>0</td>\n",
       "      <td>0</td>\n",
       "      <td>23.7</td>\n",
       "      <td>0.190</td>\n",
       "      <td>28</td>\n",
       "      <td>1</td>\n",
       "    </tr>\n",
       "    <tr>\n",
       "      <th>3</th>\n",
       "      <td>ICU200612</td>\n",
       "      <td>1</td>\n",
       "      <td>124</td>\n",
       "      <td>74</td>\n",
       "      <td>36</td>\n",
       "      <td>0</td>\n",
       "      <td>27.8</td>\n",
       "      <td>0.100</td>\n",
       "      <td>30</td>\n",
       "      <td>1</td>\n",
       "    </tr>\n",
       "    <tr>\n",
       "      <th>4</th>\n",
       "      <td>ICU200613</td>\n",
       "      <td>7</td>\n",
       "      <td>150</td>\n",
       "      <td>78</td>\n",
       "      <td>29</td>\n",
       "      <td>126</td>\n",
       "      <td>35.2</td>\n",
       "      <td>0.692</td>\n",
       "      <td>54</td>\n",
       "      <td>0</td>\n",
       "    </tr>\n",
       "  </tbody>\n",
       "</table>\n",
       "</div>"
      ],
      "text/plain": [
       "          ID  PRG   PL  PR  SK   TS   M11    BD2  Age  Insurance\n",
       "0  ICU200609    1  109  38  18  120  23.1  0.407   26          1\n",
       "1  ICU200610    1  108  88  19    0  27.1  0.400   24          1\n",
       "2  ICU200611    6   96   0   0    0  23.7  0.190   28          1\n",
       "3  ICU200612    1  124  74  36    0  27.8  0.100   30          1\n",
       "4  ICU200613    7  150  78  29  126  35.2  0.692   54          0"
      ]
     },
     "execution_count": 333,
     "metadata": {},
     "output_type": "execute_result"
    }
   ],
   "source": [
    "#first five rows of test data\n",
    "test_df.head()"
   ]
  },
  {
   "cell_type": "code",
   "execution_count": 334,
   "id": "734deb4e",
   "metadata": {},
   "outputs": [
    {
     "name": "stdout",
     "output_type": "stream",
     "text": [
      "<class 'pandas.core.frame.DataFrame'>\n",
      "RangeIndex: 599 entries, 0 to 598\n",
      "Data columns (total 11 columns):\n",
      " #   Column     Non-Null Count  Dtype  \n",
      "---  ------     --------------  -----  \n",
      " 0   ID         599 non-null    object \n",
      " 1   PRG        599 non-null    int64  \n",
      " 2   PL         599 non-null    int64  \n",
      " 3   PR         599 non-null    int64  \n",
      " 4   SK         599 non-null    int64  \n",
      " 5   TS         599 non-null    int64  \n",
      " 6   M11        599 non-null    float64\n",
      " 7   BD2        599 non-null    float64\n",
      " 8   Age        599 non-null    int64  \n",
      " 9   Insurance  599 non-null    int64  \n",
      " 10  Sepssis    599 non-null    object \n",
      "dtypes: float64(2), int64(7), object(2)\n",
      "memory usage: 51.6+ KB\n"
     ]
    }
   ],
   "source": [
    "train_df.info()"
   ]
  },
  {
   "cell_type": "markdown",
   "id": "095cd208",
   "metadata": {},
   "source": [
    "No missing values but Sepsis is wrongly mispelled as Sepssis."
   ]
  },
  {
   "cell_type": "code",
   "execution_count": 335,
   "id": "3519f128",
   "metadata": {},
   "outputs": [
    {
     "name": "stdout",
     "output_type": "stream",
     "text": [
      "<class 'pandas.core.frame.DataFrame'>\n",
      "RangeIndex: 169 entries, 0 to 168\n",
      "Data columns (total 10 columns):\n",
      " #   Column     Non-Null Count  Dtype  \n",
      "---  ------     --------------  -----  \n",
      " 0   ID         169 non-null    object \n",
      " 1   PRG        169 non-null    int64  \n",
      " 2   PL         169 non-null    int64  \n",
      " 3   PR         169 non-null    int64  \n",
      " 4   SK         169 non-null    int64  \n",
      " 5   TS         169 non-null    int64  \n",
      " 6   M11        169 non-null    float64\n",
      " 7   BD2        169 non-null    float64\n",
      " 8   Age        169 non-null    int64  \n",
      " 9   Insurance  169 non-null    int64  \n",
      "dtypes: float64(2), int64(7), object(1)\n",
      "memory usage: 13.3+ KB\n"
     ]
    }
   ],
   "source": [
    "test_df.info()"
   ]
  },
  {
   "cell_type": "markdown",
   "id": "ac45a2eb",
   "metadata": {},
   "source": [
    "The sepsis column is missing unlike in the train dataset"
   ]
  },
  {
   "cell_type": "code",
   "execution_count": 336,
   "id": "2061fe25",
   "metadata": {},
   "outputs": [
    {
     "data": {
      "text/html": [
       "<div>\n",
       "<style scoped>\n",
       "    .dataframe tbody tr th:only-of-type {\n",
       "        vertical-align: middle;\n",
       "    }\n",
       "\n",
       "    .dataframe tbody tr th {\n",
       "        vertical-align: top;\n",
       "    }\n",
       "\n",
       "    .dataframe thead th {\n",
       "        text-align: right;\n",
       "    }\n",
       "</style>\n",
       "<table border=\"1\" class=\"dataframe\">\n",
       "  <thead>\n",
       "    <tr style=\"text-align: right;\">\n",
       "      <th></th>\n",
       "      <th>count</th>\n",
       "      <th>mean</th>\n",
       "      <th>std</th>\n",
       "      <th>min</th>\n",
       "      <th>25%</th>\n",
       "      <th>50%</th>\n",
       "      <th>75%</th>\n",
       "      <th>max</th>\n",
       "    </tr>\n",
       "  </thead>\n",
       "  <tbody>\n",
       "    <tr>\n",
       "      <th>PRG</th>\n",
       "      <td>599.0</td>\n",
       "      <td>3.824708</td>\n",
       "      <td>3.362839</td>\n",
       "      <td>0.000</td>\n",
       "      <td>1.000</td>\n",
       "      <td>3.000</td>\n",
       "      <td>6.000</td>\n",
       "      <td>17.00</td>\n",
       "    </tr>\n",
       "    <tr>\n",
       "      <th>PL</th>\n",
       "      <td>599.0</td>\n",
       "      <td>120.153589</td>\n",
       "      <td>32.682364</td>\n",
       "      <td>0.000</td>\n",
       "      <td>99.000</td>\n",
       "      <td>116.000</td>\n",
       "      <td>140.000</td>\n",
       "      <td>198.00</td>\n",
       "    </tr>\n",
       "    <tr>\n",
       "      <th>PR</th>\n",
       "      <td>599.0</td>\n",
       "      <td>68.732888</td>\n",
       "      <td>19.335675</td>\n",
       "      <td>0.000</td>\n",
       "      <td>64.000</td>\n",
       "      <td>70.000</td>\n",
       "      <td>80.000</td>\n",
       "      <td>122.00</td>\n",
       "    </tr>\n",
       "    <tr>\n",
       "      <th>SK</th>\n",
       "      <td>599.0</td>\n",
       "      <td>20.562604</td>\n",
       "      <td>16.017622</td>\n",
       "      <td>0.000</td>\n",
       "      <td>0.000</td>\n",
       "      <td>23.000</td>\n",
       "      <td>32.000</td>\n",
       "      <td>99.00</td>\n",
       "    </tr>\n",
       "    <tr>\n",
       "      <th>TS</th>\n",
       "      <td>599.0</td>\n",
       "      <td>79.460768</td>\n",
       "      <td>116.576176</td>\n",
       "      <td>0.000</td>\n",
       "      <td>0.000</td>\n",
       "      <td>36.000</td>\n",
       "      <td>123.500</td>\n",
       "      <td>846.00</td>\n",
       "    </tr>\n",
       "    <tr>\n",
       "      <th>M11</th>\n",
       "      <td>599.0</td>\n",
       "      <td>31.920033</td>\n",
       "      <td>8.008227</td>\n",
       "      <td>0.000</td>\n",
       "      <td>27.100</td>\n",
       "      <td>32.000</td>\n",
       "      <td>36.550</td>\n",
       "      <td>67.10</td>\n",
       "    </tr>\n",
       "    <tr>\n",
       "      <th>BD2</th>\n",
       "      <td>599.0</td>\n",
       "      <td>0.481187</td>\n",
       "      <td>0.337552</td>\n",
       "      <td>0.078</td>\n",
       "      <td>0.248</td>\n",
       "      <td>0.383</td>\n",
       "      <td>0.647</td>\n",
       "      <td>2.42</td>\n",
       "    </tr>\n",
       "    <tr>\n",
       "      <th>Age</th>\n",
       "      <td>599.0</td>\n",
       "      <td>33.290484</td>\n",
       "      <td>11.828446</td>\n",
       "      <td>21.000</td>\n",
       "      <td>24.000</td>\n",
       "      <td>29.000</td>\n",
       "      <td>40.000</td>\n",
       "      <td>81.00</td>\n",
       "    </tr>\n",
       "    <tr>\n",
       "      <th>Insurance</th>\n",
       "      <td>599.0</td>\n",
       "      <td>0.686144</td>\n",
       "      <td>0.464447</td>\n",
       "      <td>0.000</td>\n",
       "      <td>0.000</td>\n",
       "      <td>1.000</td>\n",
       "      <td>1.000</td>\n",
       "      <td>1.00</td>\n",
       "    </tr>\n",
       "  </tbody>\n",
       "</table>\n",
       "</div>"
      ],
      "text/plain": [
       "           count        mean         std     min     25%      50%      75%  \\\n",
       "PRG        599.0    3.824708    3.362839   0.000   1.000    3.000    6.000   \n",
       "PL         599.0  120.153589   32.682364   0.000  99.000  116.000  140.000   \n",
       "PR         599.0   68.732888   19.335675   0.000  64.000   70.000   80.000   \n",
       "SK         599.0   20.562604   16.017622   0.000   0.000   23.000   32.000   \n",
       "TS         599.0   79.460768  116.576176   0.000   0.000   36.000  123.500   \n",
       "M11        599.0   31.920033    8.008227   0.000  27.100   32.000   36.550   \n",
       "BD2        599.0    0.481187    0.337552   0.078   0.248    0.383    0.647   \n",
       "Age        599.0   33.290484   11.828446  21.000  24.000   29.000   40.000   \n",
       "Insurance  599.0    0.686144    0.464447   0.000   0.000    1.000    1.000   \n",
       "\n",
       "              max  \n",
       "PRG         17.00  \n",
       "PL         198.00  \n",
       "PR         122.00  \n",
       "SK          99.00  \n",
       "TS         846.00  \n",
       "M11         67.10  \n",
       "BD2          2.42  \n",
       "Age         81.00  \n",
       "Insurance    1.00  "
      ]
     },
     "execution_count": 336,
     "metadata": {},
     "output_type": "execute_result"
    }
   ],
   "source": [
    "# Descriptive statistics of the train dataset\n",
    "train_df.describe().T"
   ]
  },
  {
   "cell_type": "code",
   "execution_count": 337,
   "id": "7bc3ab41",
   "metadata": {},
   "outputs": [
    {
     "data": {
      "text/plain": [
       "Sepssis\n",
       "Negative    391\n",
       "Positive    208\n",
       "Name: count, dtype: int64"
      ]
     },
     "execution_count": 337,
     "metadata": {},
     "output_type": "execute_result"
    }
   ],
   "source": [
    "# Categories in the Sepssis column\n",
    "train_df['Sepssis'].value_counts()"
   ]
  },
  {
   "cell_type": "markdown",
   "id": "37361415",
   "metadata": {},
   "source": [
    "## Exploratory Data Analysis"
   ]
  },
  {
   "cell_type": "markdown",
   "id": "53e8c53b",
   "metadata": {},
   "source": [
    "1. What the distribution of sepsis?"
   ]
  },
  {
   "cell_type": "code",
   "execution_count": 338,
   "id": "b97c7442",
   "metadata": {},
   "outputs": [
    {
     "data": {
      "application/vnd.plotly.v1+json": {
       "config": {
        "plotlyServerURL": "https://plot.ly"
       },
       "data": [
        {
         "alignmentgroup": "True",
         "bingroup": "x",
         "hovertemplate": "variable=Sepssis<br>value=%{x}<br>count=%{y}<extra></extra>",
         "legendgroup": "Sepssis",
         "marker": {
          "color": "#636efa",
          "pattern": {
           "shape": ""
          }
         },
         "name": "Sepssis",
         "offsetgroup": "Sepssis",
         "orientation": "v",
         "showlegend": true,
         "type": "histogram",
         "x": [
          "Positive",
          "Negative",
          "Positive",
          "Negative",
          "Positive",
          "Negative",
          "Positive",
          "Negative",
          "Positive",
          "Positive",
          "Negative",
          "Positive",
          "Negative",
          "Positive",
          "Positive",
          "Positive",
          "Positive",
          "Positive",
          "Negative",
          "Positive",
          "Negative",
          "Negative",
          "Positive",
          "Positive",
          "Positive",
          "Positive",
          "Positive",
          "Negative",
          "Negative",
          "Negative",
          "Negative",
          "Positive",
          "Negative",
          "Negative",
          "Negative",
          "Negative",
          "Negative",
          "Positive",
          "Positive",
          "Positive",
          "Negative",
          "Negative",
          "Negative",
          "Positive",
          "Negative",
          "Positive",
          "Negative",
          "Negative",
          "Positive",
          "Negative",
          "Negative",
          "Negative",
          "Negative",
          "Positive",
          "Negative",
          "Negative",
          "Positive",
          "Negative",
          "Negative",
          "Negative",
          "Negative",
          "Positive",
          "Negative",
          "Negative",
          "Positive",
          "Negative",
          "Positive",
          "Negative",
          "Negative",
          "Negative",
          "Positive",
          "Negative",
          "Positive",
          "Negative",
          "Negative",
          "Negative",
          "Negative",
          "Negative",
          "Positive",
          "Negative",
          "Negative",
          "Negative",
          "Negative",
          "Negative",
          "Positive",
          "Negative",
          "Negative",
          "Negative",
          "Positive",
          "Negative",
          "Negative",
          "Negative",
          "Negative",
          "Positive",
          "Negative",
          "Negative",
          "Negative",
          "Negative",
          "Negative",
          "Positive",
          "Positive",
          "Negative",
          "Negative",
          "Negative",
          "Negative",
          "Negative",
          "Negative",
          "Negative",
          "Negative",
          "Positive",
          "Positive",
          "Positive",
          "Negative",
          "Negative",
          "Positive",
          "Positive",
          "Positive",
          "Negative",
          "Negative",
          "Negative",
          "Positive",
          "Negative",
          "Negative",
          "Negative",
          "Positive",
          "Positive",
          "Negative",
          "Negative",
          "Positive",
          "Positive",
          "Positive",
          "Positive",
          "Positive",
          "Negative",
          "Negative",
          "Negative",
          "Negative",
          "Negative",
          "Negative",
          "Negative",
          "Negative",
          "Negative",
          "Negative",
          "Positive",
          "Negative",
          "Negative",
          "Negative",
          "Negative",
          "Negative",
          "Negative",
          "Negative",
          "Negative",
          "Positive",
          "Negative",
          "Positive",
          "Positive",
          "Negative",
          "Negative",
          "Negative",
          "Positive",
          "Negative",
          "Negative",
          "Negative",
          "Negative",
          "Positive",
          "Positive",
          "Negative",
          "Negative",
          "Negative",
          "Negative",
          "Positive",
          "Positive",
          "Negative",
          "Negative",
          "Negative",
          "Positive",
          "Negative",
          "Positive",
          "Negative",
          "Positive",
          "Negative",
          "Negative",
          "Negative",
          "Negative",
          "Negative",
          "Positive",
          "Positive",
          "Positive",
          "Positive",
          "Positive",
          "Negative",
          "Negative",
          "Positive",
          "Positive",
          "Negative",
          "Positive",
          "Negative",
          "Positive",
          "Positive",
          "Positive",
          "Negative",
          "Negative",
          "Negative",
          "Negative",
          "Negative",
          "Negative",
          "Positive",
          "Positive",
          "Negative",
          "Positive",
          "Negative",
          "Negative",
          "Negative",
          "Positive",
          "Positive",
          "Positive",
          "Positive",
          "Negative",
          "Positive",
          "Positive",
          "Positive",
          "Positive",
          "Negative",
          "Negative",
          "Negative",
          "Negative",
          "Negative",
          "Positive",
          "Negative",
          "Negative",
          "Positive",
          "Positive",
          "Negative",
          "Negative",
          "Negative",
          "Positive",
          "Positive",
          "Positive",
          "Positive",
          "Negative",
          "Negative",
          "Negative",
          "Positive",
          "Positive",
          "Negative",
          "Positive",
          "Negative",
          "Negative",
          "Negative",
          "Negative",
          "Negative",
          "Negative",
          "Negative",
          "Negative",
          "Positive",
          "Positive",
          "Negative",
          "Negative",
          "Negative",
          "Positive",
          "Negative",
          "Positive",
          "Negative",
          "Negative",
          "Positive",
          "Negative",
          "Positive",
          "Negative",
          "Negative",
          "Positive",
          "Positive",
          "Negative",
          "Negative",
          "Negative",
          "Negative",
          "Negative",
          "Positive",
          "Negative",
          "Negative",
          "Negative",
          "Positive",
          "Negative",
          "Negative",
          "Positive",
          "Positive",
          "Negative",
          "Negative",
          "Positive",
          "Negative",
          "Negative",
          "Negative",
          "Positive",
          "Positive",
          "Positive",
          "Negative",
          "Negative",
          "Positive",
          "Negative",
          "Positive",
          "Negative",
          "Positive",
          "Positive",
          "Negative",
          "Positive",
          "Negative",
          "Negative",
          "Positive",
          "Negative",
          "Positive",
          "Positive",
          "Negative",
          "Negative",
          "Positive",
          "Negative",
          "Positive",
          "Negative",
          "Negative",
          "Positive",
          "Negative",
          "Positive",
          "Negative",
          "Positive",
          "Positive",
          "Positive",
          "Negative",
          "Negative",
          "Positive",
          "Negative",
          "Positive",
          "Negative",
          "Negative",
          "Negative",
          "Positive",
          "Negative",
          "Negative",
          "Negative",
          "Negative",
          "Positive",
          "Positive",
          "Positive",
          "Negative",
          "Negative",
          "Negative",
          "Negative",
          "Negative",
          "Negative",
          "Negative",
          "Negative",
          "Negative",
          "Positive",
          "Negative",
          "Negative",
          "Negative",
          "Negative",
          "Negative",
          "Positive",
          "Positive",
          "Positive",
          "Negative",
          "Positive",
          "Positive",
          "Negative",
          "Negative",
          "Positive",
          "Negative",
          "Negative",
          "Positive",
          "Negative",
          "Negative",
          "Positive",
          "Positive",
          "Negative",
          "Negative",
          "Negative",
          "Negative",
          "Positive",
          "Negative",
          "Negative",
          "Positive",
          "Negative",
          "Negative",
          "Negative",
          "Negative",
          "Negative",
          "Negative",
          "Negative",
          "Positive",
          "Positive",
          "Positive",
          "Negative",
          "Negative",
          "Positive",
          "Negative",
          "Negative",
          "Positive",
          "Negative",
          "Negative",
          "Positive",
          "Negative",
          "Positive",
          "Positive",
          "Negative",
          "Positive",
          "Negative",
          "Positive",
          "Negative",
          "Positive",
          "Negative",
          "Positive",
          "Positive",
          "Negative",
          "Negative",
          "Negative",
          "Negative",
          "Positive",
          "Positive",
          "Negative",
          "Positive",
          "Negative",
          "Positive",
          "Negative",
          "Negative",
          "Negative",
          "Negative",
          "Positive",
          "Positive",
          "Negative",
          "Positive",
          "Negative",
          "Positive",
          "Negative",
          "Negative",
          "Negative",
          "Negative",
          "Negative",
          "Positive",
          "Negative",
          "Negative",
          "Negative",
          "Negative",
          "Positive",
          "Negative",
          "Negative",
          "Positive",
          "Positive",
          "Positive",
          "Negative",
          "Negative",
          "Positive",
          "Negative",
          "Negative",
          "Positive",
          "Negative",
          "Negative",
          "Negative",
          "Positive",
          "Negative",
          "Negative",
          "Positive",
          "Negative",
          "Negative",
          "Negative",
          "Negative",
          "Negative",
          "Negative",
          "Negative",
          "Negative",
          "Negative",
          "Positive",
          "Negative",
          "Negative",
          "Negative",
          "Negative",
          "Negative",
          "Negative",
          "Negative",
          "Positive",
          "Negative",
          "Negative",
          "Negative",
          "Positive",
          "Negative",
          "Negative",
          "Negative",
          "Positive",
          "Positive",
          "Negative",
          "Negative",
          "Negative",
          "Negative",
          "Negative",
          "Negative",
          "Negative",
          "Positive",
          "Negative",
          "Negative",
          "Negative",
          "Negative",
          "Positive",
          "Negative",
          "Negative",
          "Negative",
          "Positive",
          "Negative",
          "Negative",
          "Negative",
          "Positive",
          "Negative",
          "Negative",
          "Negative",
          "Positive",
          "Negative",
          "Negative",
          "Negative",
          "Negative",
          "Positive",
          "Positive",
          "Negative",
          "Negative",
          "Negative",
          "Negative",
          "Negative",
          "Negative",
          "Positive",
          "Negative",
          "Negative",
          "Negative",
          "Negative",
          "Negative",
          "Negative",
          "Negative",
          "Negative",
          "Negative",
          "Negative",
          "Negative",
          "Positive",
          "Negative",
          "Negative",
          "Negative",
          "Positive",
          "Positive",
          "Positive",
          "Positive",
          "Negative",
          "Negative",
          "Positive",
          "Positive",
          "Negative",
          "Negative",
          "Negative",
          "Negative",
          "Negative",
          "Negative",
          "Negative",
          "Negative",
          "Negative",
          "Negative",
          "Negative",
          "Negative",
          "Negative",
          "Positive",
          "Positive",
          "Negative",
          "Negative",
          "Negative",
          "Negative",
          "Negative",
          "Negative",
          "Negative",
          "Positive",
          "Negative",
          "Negative",
          "Negative",
          "Negative",
          "Negative",
          "Negative",
          "Negative",
          "Positive",
          "Negative",
          "Positive",
          "Positive",
          "Negative",
          "Negative",
          "Negative",
          "Positive",
          "Negative",
          "Positive",
          "Negative",
          "Positive",
          "Negative",
          "Positive",
          "Negative",
          "Positive",
          "Negative",
          "Negative",
          "Positive",
          "Negative",
          "Negative",
          "Positive"
         ],
         "xaxis": "x",
         "yaxis": "y"
        }
       ],
       "layout": {
        "barmode": "relative",
        "legend": {
         "title": {
          "text": "variable"
         },
         "tracegroupgap": 0
        },
        "margin": {
         "t": 60
        },
        "template": {
         "data": {
          "bar": [
           {
            "error_x": {
             "color": "#2a3f5f"
            },
            "error_y": {
             "color": "#2a3f5f"
            },
            "marker": {
             "line": {
              "color": "#E5ECF6",
              "width": 0.5
             },
             "pattern": {
              "fillmode": "overlay",
              "size": 10,
              "solidity": 0.2
             }
            },
            "type": "bar"
           }
          ],
          "barpolar": [
           {
            "marker": {
             "line": {
              "color": "#E5ECF6",
              "width": 0.5
             },
             "pattern": {
              "fillmode": "overlay",
              "size": 10,
              "solidity": 0.2
             }
            },
            "type": "barpolar"
           }
          ],
          "carpet": [
           {
            "aaxis": {
             "endlinecolor": "#2a3f5f",
             "gridcolor": "white",
             "linecolor": "white",
             "minorgridcolor": "white",
             "startlinecolor": "#2a3f5f"
            },
            "baxis": {
             "endlinecolor": "#2a3f5f",
             "gridcolor": "white",
             "linecolor": "white",
             "minorgridcolor": "white",
             "startlinecolor": "#2a3f5f"
            },
            "type": "carpet"
           }
          ],
          "choropleth": [
           {
            "colorbar": {
             "outlinewidth": 0,
             "ticks": ""
            },
            "type": "choropleth"
           }
          ],
          "contour": [
           {
            "colorbar": {
             "outlinewidth": 0,
             "ticks": ""
            },
            "colorscale": [
             [
              0,
              "#0d0887"
             ],
             [
              0.1111111111111111,
              "#46039f"
             ],
             [
              0.2222222222222222,
              "#7201a8"
             ],
             [
              0.3333333333333333,
              "#9c179e"
             ],
             [
              0.4444444444444444,
              "#bd3786"
             ],
             [
              0.5555555555555556,
              "#d8576b"
             ],
             [
              0.6666666666666666,
              "#ed7953"
             ],
             [
              0.7777777777777778,
              "#fb9f3a"
             ],
             [
              0.8888888888888888,
              "#fdca26"
             ],
             [
              1,
              "#f0f921"
             ]
            ],
            "type": "contour"
           }
          ],
          "contourcarpet": [
           {
            "colorbar": {
             "outlinewidth": 0,
             "ticks": ""
            },
            "type": "contourcarpet"
           }
          ],
          "heatmap": [
           {
            "colorbar": {
             "outlinewidth": 0,
             "ticks": ""
            },
            "colorscale": [
             [
              0,
              "#0d0887"
             ],
             [
              0.1111111111111111,
              "#46039f"
             ],
             [
              0.2222222222222222,
              "#7201a8"
             ],
             [
              0.3333333333333333,
              "#9c179e"
             ],
             [
              0.4444444444444444,
              "#bd3786"
             ],
             [
              0.5555555555555556,
              "#d8576b"
             ],
             [
              0.6666666666666666,
              "#ed7953"
             ],
             [
              0.7777777777777778,
              "#fb9f3a"
             ],
             [
              0.8888888888888888,
              "#fdca26"
             ],
             [
              1,
              "#f0f921"
             ]
            ],
            "type": "heatmap"
           }
          ],
          "heatmapgl": [
           {
            "colorbar": {
             "outlinewidth": 0,
             "ticks": ""
            },
            "colorscale": [
             [
              0,
              "#0d0887"
             ],
             [
              0.1111111111111111,
              "#46039f"
             ],
             [
              0.2222222222222222,
              "#7201a8"
             ],
             [
              0.3333333333333333,
              "#9c179e"
             ],
             [
              0.4444444444444444,
              "#bd3786"
             ],
             [
              0.5555555555555556,
              "#d8576b"
             ],
             [
              0.6666666666666666,
              "#ed7953"
             ],
             [
              0.7777777777777778,
              "#fb9f3a"
             ],
             [
              0.8888888888888888,
              "#fdca26"
             ],
             [
              1,
              "#f0f921"
             ]
            ],
            "type": "heatmapgl"
           }
          ],
          "histogram": [
           {
            "marker": {
             "pattern": {
              "fillmode": "overlay",
              "size": 10,
              "solidity": 0.2
             }
            },
            "type": "histogram"
           }
          ],
          "histogram2d": [
           {
            "colorbar": {
             "outlinewidth": 0,
             "ticks": ""
            },
            "colorscale": [
             [
              0,
              "#0d0887"
             ],
             [
              0.1111111111111111,
              "#46039f"
             ],
             [
              0.2222222222222222,
              "#7201a8"
             ],
             [
              0.3333333333333333,
              "#9c179e"
             ],
             [
              0.4444444444444444,
              "#bd3786"
             ],
             [
              0.5555555555555556,
              "#d8576b"
             ],
             [
              0.6666666666666666,
              "#ed7953"
             ],
             [
              0.7777777777777778,
              "#fb9f3a"
             ],
             [
              0.8888888888888888,
              "#fdca26"
             ],
             [
              1,
              "#f0f921"
             ]
            ],
            "type": "histogram2d"
           }
          ],
          "histogram2dcontour": [
           {
            "colorbar": {
             "outlinewidth": 0,
             "ticks": ""
            },
            "colorscale": [
             [
              0,
              "#0d0887"
             ],
             [
              0.1111111111111111,
              "#46039f"
             ],
             [
              0.2222222222222222,
              "#7201a8"
             ],
             [
              0.3333333333333333,
              "#9c179e"
             ],
             [
              0.4444444444444444,
              "#bd3786"
             ],
             [
              0.5555555555555556,
              "#d8576b"
             ],
             [
              0.6666666666666666,
              "#ed7953"
             ],
             [
              0.7777777777777778,
              "#fb9f3a"
             ],
             [
              0.8888888888888888,
              "#fdca26"
             ],
             [
              1,
              "#f0f921"
             ]
            ],
            "type": "histogram2dcontour"
           }
          ],
          "mesh3d": [
           {
            "colorbar": {
             "outlinewidth": 0,
             "ticks": ""
            },
            "type": "mesh3d"
           }
          ],
          "parcoords": [
           {
            "line": {
             "colorbar": {
              "outlinewidth": 0,
              "ticks": ""
             }
            },
            "type": "parcoords"
           }
          ],
          "pie": [
           {
            "automargin": true,
            "type": "pie"
           }
          ],
          "scatter": [
           {
            "fillpattern": {
             "fillmode": "overlay",
             "size": 10,
             "solidity": 0.2
            },
            "type": "scatter"
           }
          ],
          "scatter3d": [
           {
            "line": {
             "colorbar": {
              "outlinewidth": 0,
              "ticks": ""
             }
            },
            "marker": {
             "colorbar": {
              "outlinewidth": 0,
              "ticks": ""
             }
            },
            "type": "scatter3d"
           }
          ],
          "scattercarpet": [
           {
            "marker": {
             "colorbar": {
              "outlinewidth": 0,
              "ticks": ""
             }
            },
            "type": "scattercarpet"
           }
          ],
          "scattergeo": [
           {
            "marker": {
             "colorbar": {
              "outlinewidth": 0,
              "ticks": ""
             }
            },
            "type": "scattergeo"
           }
          ],
          "scattergl": [
           {
            "marker": {
             "colorbar": {
              "outlinewidth": 0,
              "ticks": ""
             }
            },
            "type": "scattergl"
           }
          ],
          "scattermapbox": [
           {
            "marker": {
             "colorbar": {
              "outlinewidth": 0,
              "ticks": ""
             }
            },
            "type": "scattermapbox"
           }
          ],
          "scatterpolar": [
           {
            "marker": {
             "colorbar": {
              "outlinewidth": 0,
              "ticks": ""
             }
            },
            "type": "scatterpolar"
           }
          ],
          "scatterpolargl": [
           {
            "marker": {
             "colorbar": {
              "outlinewidth": 0,
              "ticks": ""
             }
            },
            "type": "scatterpolargl"
           }
          ],
          "scatterternary": [
           {
            "marker": {
             "colorbar": {
              "outlinewidth": 0,
              "ticks": ""
             }
            },
            "type": "scatterternary"
           }
          ],
          "surface": [
           {
            "colorbar": {
             "outlinewidth": 0,
             "ticks": ""
            },
            "colorscale": [
             [
              0,
              "#0d0887"
             ],
             [
              0.1111111111111111,
              "#46039f"
             ],
             [
              0.2222222222222222,
              "#7201a8"
             ],
             [
              0.3333333333333333,
              "#9c179e"
             ],
             [
              0.4444444444444444,
              "#bd3786"
             ],
             [
              0.5555555555555556,
              "#d8576b"
             ],
             [
              0.6666666666666666,
              "#ed7953"
             ],
             [
              0.7777777777777778,
              "#fb9f3a"
             ],
             [
              0.8888888888888888,
              "#fdca26"
             ],
             [
              1,
              "#f0f921"
             ]
            ],
            "type": "surface"
           }
          ],
          "table": [
           {
            "cells": {
             "fill": {
              "color": "#EBF0F8"
             },
             "line": {
              "color": "white"
             }
            },
            "header": {
             "fill": {
              "color": "#C8D4E3"
             },
             "line": {
              "color": "white"
             }
            },
            "type": "table"
           }
          ]
         },
         "layout": {
          "annotationdefaults": {
           "arrowcolor": "#2a3f5f",
           "arrowhead": 0,
           "arrowwidth": 1
          },
          "autotypenumbers": "strict",
          "coloraxis": {
           "colorbar": {
            "outlinewidth": 0,
            "ticks": ""
           }
          },
          "colorscale": {
           "diverging": [
            [
             0,
             "#8e0152"
            ],
            [
             0.1,
             "#c51b7d"
            ],
            [
             0.2,
             "#de77ae"
            ],
            [
             0.3,
             "#f1b6da"
            ],
            [
             0.4,
             "#fde0ef"
            ],
            [
             0.5,
             "#f7f7f7"
            ],
            [
             0.6,
             "#e6f5d0"
            ],
            [
             0.7,
             "#b8e186"
            ],
            [
             0.8,
             "#7fbc41"
            ],
            [
             0.9,
             "#4d9221"
            ],
            [
             1,
             "#276419"
            ]
           ],
           "sequential": [
            [
             0,
             "#0d0887"
            ],
            [
             0.1111111111111111,
             "#46039f"
            ],
            [
             0.2222222222222222,
             "#7201a8"
            ],
            [
             0.3333333333333333,
             "#9c179e"
            ],
            [
             0.4444444444444444,
             "#bd3786"
            ],
            [
             0.5555555555555556,
             "#d8576b"
            ],
            [
             0.6666666666666666,
             "#ed7953"
            ],
            [
             0.7777777777777778,
             "#fb9f3a"
            ],
            [
             0.8888888888888888,
             "#fdca26"
            ],
            [
             1,
             "#f0f921"
            ]
           ],
           "sequentialminus": [
            [
             0,
             "#0d0887"
            ],
            [
             0.1111111111111111,
             "#46039f"
            ],
            [
             0.2222222222222222,
             "#7201a8"
            ],
            [
             0.3333333333333333,
             "#9c179e"
            ],
            [
             0.4444444444444444,
             "#bd3786"
            ],
            [
             0.5555555555555556,
             "#d8576b"
            ],
            [
             0.6666666666666666,
             "#ed7953"
            ],
            [
             0.7777777777777778,
             "#fb9f3a"
            ],
            [
             0.8888888888888888,
             "#fdca26"
            ],
            [
             1,
             "#f0f921"
            ]
           ]
          },
          "colorway": [
           "#636efa",
           "#EF553B",
           "#00cc96",
           "#ab63fa",
           "#FFA15A",
           "#19d3f3",
           "#FF6692",
           "#B6E880",
           "#FF97FF",
           "#FECB52"
          ],
          "font": {
           "color": "#2a3f5f"
          },
          "geo": {
           "bgcolor": "white",
           "lakecolor": "white",
           "landcolor": "#E5ECF6",
           "showlakes": true,
           "showland": true,
           "subunitcolor": "white"
          },
          "hoverlabel": {
           "align": "left"
          },
          "hovermode": "closest",
          "mapbox": {
           "style": "light"
          },
          "paper_bgcolor": "white",
          "plot_bgcolor": "#E5ECF6",
          "polar": {
           "angularaxis": {
            "gridcolor": "white",
            "linecolor": "white",
            "ticks": ""
           },
           "bgcolor": "#E5ECF6",
           "radialaxis": {
            "gridcolor": "white",
            "linecolor": "white",
            "ticks": ""
           }
          },
          "scene": {
           "xaxis": {
            "backgroundcolor": "#E5ECF6",
            "gridcolor": "white",
            "gridwidth": 2,
            "linecolor": "white",
            "showbackground": true,
            "ticks": "",
            "zerolinecolor": "white"
           },
           "yaxis": {
            "backgroundcolor": "#E5ECF6",
            "gridcolor": "white",
            "gridwidth": 2,
            "linecolor": "white",
            "showbackground": true,
            "ticks": "",
            "zerolinecolor": "white"
           },
           "zaxis": {
            "backgroundcolor": "#E5ECF6",
            "gridcolor": "white",
            "gridwidth": 2,
            "linecolor": "white",
            "showbackground": true,
            "ticks": "",
            "zerolinecolor": "white"
           }
          },
          "shapedefaults": {
           "line": {
            "color": "#2a3f5f"
           }
          },
          "ternary": {
           "aaxis": {
            "gridcolor": "white",
            "linecolor": "white",
            "ticks": ""
           },
           "baxis": {
            "gridcolor": "white",
            "linecolor": "white",
            "ticks": ""
           },
           "bgcolor": "#E5ECF6",
           "caxis": {
            "gridcolor": "white",
            "linecolor": "white",
            "ticks": ""
           }
          },
          "title": {
           "x": 0.05
          },
          "xaxis": {
           "automargin": true,
           "gridcolor": "white",
           "linecolor": "white",
           "ticks": "",
           "title": {
            "standoff": 15
           },
           "zerolinecolor": "white",
           "zerolinewidth": 2
          },
          "yaxis": {
           "automargin": true,
           "gridcolor": "white",
           "linecolor": "white",
           "ticks": "",
           "title": {
            "standoff": 15
           },
           "zerolinecolor": "white",
           "zerolinewidth": 2
          }
         }
        },
        "xaxis": {
         "anchor": "y",
         "domain": [
          0,
          1
         ],
         "title": {
          "text": "value"
         }
        },
        "yaxis": {
         "anchor": "x",
         "domain": [
          0,
          1
         ],
         "title": {
          "text": "count"
         }
        }
       }
      }
     },
     "metadata": {},
     "output_type": "display_data"
    }
   ],
   "source": [
    "# Distribution of Sepssis\n",
    "px.histogram(train_df[\"Sepssis\"])\n"
   ]
  },
  {
   "cell_type": "markdown",
   "id": "12d0d50b",
   "metadata": {},
   "source": [
    "There are 391 negative cases which are the patients who did not develop sepsis during their stay in the intensive Care Unit(ICU). The positive cases are 208, which are the patients who developed sepsis during their stay in the ICU."
   ]
  },
  {
   "cell_type": "markdown",
   "id": "daab601f",
   "metadata": {},
   "source": [
    "## 2. What is the distribution of ages for patients captured in the data?"
   ]
  },
  {
   "cell_type": "code",
   "execution_count": 339,
   "id": "7a6f7956",
   "metadata": {},
   "outputs": [
    {
     "data": {
      "image/png": "[encoded data removed]",
      "text/plain": [
       "<Figure size 700x500 with 1 Axes>"
      ]
     },
     "metadata": {},
     "output_type": "display_data"
    },
    {
     "name": "stdout",
     "output_type": "stream",
     "text": [
      "Mean Age: 33.29\n",
      "Median Age: 29.0\n",
      "Minimum Age: 21\n",
      "Maximum Age: 81\n"
     ]
    }
   ],
   "source": [
    "# We plot the distribution of ages for all the patients\n",
    "plt.figure(figsize=(7,5))\n",
    "plt.hist(train_df['Age'],bins=7,range = (20,90),edgecolor='k',alpha=0.7,color='green')\n",
    "plt.title(\"Distribution of Patients Age\")\n",
    "plt.xlabel(\"Age\")\n",
    "plt.ylabel(\"Frequency\")\n",
    "plt.show()\n",
    "\n",
    "# Calculating the summary statistics of the age column\n",
    "mean_age = train_df['Age'].mean()\n",
    "median_age = train_df['Age'].median()\n",
    "min_age = train_df['Age'].min()\n",
    "max_age = train_df['Age'].max()\n",
    "\n",
    "# Print summary statistics\n",
    "print(f\"Mean Age: {mean_age:.2f}\")\n",
    "print(f\"Median Age: {median_age}\")\n",
    "print(f\"Minimum Age: {min_age}\")\n",
    "print(f\"Maximum Age: {max_age}\")"
   ]
  },
  {
   "cell_type": "markdown",
   "id": "2064def5",
   "metadata": {},
   "source": [
    "## 3. How many patients have insurance?"
   ]
  },
  {
   "cell_type": "code",
   "execution_count": 340,
   "id": "72f3724f",
   "metadata": {},
   "outputs": [
    {
     "data": {
      "image/png": "[encoded data removed]",
      "text/plain": [
       "<Figure size 640x480 with 1 Axes>"
      ]
     },
     "metadata": {},
     "output_type": "display_data"
    }
   ],
   "source": [
    "#We count the number of patients with insurance\n",
    "insurance_count = train_df['Insurance'].value_counts()\n",
    "labels = ['Insurance','No Insurance']\n",
    "plt.title('Distribution of Patients by Insurance')\n",
    "# We plot the pie chart\n",
    "plt.pie(insurance_count,labels=labels,autopct='%1.1f%%', startangle=90)\n",
    "plt.show()"
   ]
  },
  {
   "cell_type": "markdown",
   "id": "2ba9ea91",
   "metadata": {},
   "source": [
    "## 4. Is Blood Pressure affected by Age?"
   ]
  },
  {
   "cell_type": "code",
   "execution_count": 341,
   "id": "720bf5de",
   "metadata": {},
   "outputs": [
    {
     "data": {
      "image/png": "[encoded data removed]",
      "text/plain": [
       "<Figure size 800x700 with 1 Axes>"
      ]
     },
     "metadata": {},
     "output_type": "display_data"
    }
   ],
   "source": [
    "plt.figure(figsize=(8,7))\n",
    "plt.scatter(train_df['Age'],train_df['PR'],alpha=0.7)\n",
    "plt.xlabel('Age')\n",
    "plt.ylabel('Blood Pressure')\n",
    "plt.title(\"Scatter Plot of Age vs Blood Pressure\")\n",
    "plt.show()"
   ]
  },
  {
   "cell_type": "markdown",
   "id": "10954afe",
   "metadata": {},
   "source": [
    "Most of the Values lie between 40 and 80. This represents the systolic or diastolic blood pressure values. Most of the values cluster within this range which indicates that blood pressure tends to be within a relatively normal or typical range for a large portion of the population in the dataset."
   ]
  },
  {
   "cell_type": "markdown",
   "id": "6b39a1ca",
   "metadata": {},
   "source": [
    "## Hypothesis Testing"
   ]
  },
  {
   "cell_type": "code",
   "execution_count": 342,
   "id": "e33459b5",
   "metadata": {},
   "outputs": [],
   "source": [
    "# We define Negative and Positive Sepsis Cases\n",
    "Sepsis_Negative = train_df[train_df['Sepssis']=='Negative']\n",
    "Sepsis_Positive = train_df[train_df['Sepssis']=='Positive']"
   ]
  },
  {
   "cell_type": "code",
   "execution_count": 343,
   "id": "6e525472",
   "metadata": {},
   "outputs": [],
   "source": [
    "t,p = stats.ttest_ind(Sepsis_Negative['Age'],Sepsis_Positive['Age'],equal_var=False)"
   ]
  },
  {
   "cell_type": "code",
   "execution_count": 344,
   "id": "dd98bc12",
   "metadata": {},
   "outputs": [
    {
     "name": "stdout",
     "output_type": "stream",
     "text": [
      "1.0859592786305662e-07\n"
     ]
    }
   ],
   "source": [
    "print(p)"
   ]
  },
  {
   "cell_type": "code",
   "execution_count": 345,
   "id": "98836b30",
   "metadata": {},
   "outputs": [],
   "source": [
    "# Separate data into two groups: patients with sepsis (Sepsis: Positive) and without sepsis (Sepsis: Negative)\n",
    "sepsis_positive = train_df[train_df['Sepssis'] == 'Positive']['Age']\n",
    "sepsis_negative = train_df[train_df['Sepssis'] == 'Negative']['Age']"
   ]
  },
  {
   "cell_type": "code",
   "execution_count": 346,
   "id": "6324bb72",
   "metadata": {},
   "outputs": [],
   "source": [
    "# Set significance level (alpha)\n",
    "alpha = 0.05\n",
    "\n",
    " # Perform a two-sample independent t-test\n",
    "t_stat, p_value = stats.ttest_ind(sepsis_positive, sepsis_negative, equal_var=False)"
   ]
  },
  {
   "cell_type": "code",
   "execution_count": 347,
   "id": "5831dc38",
   "metadata": {},
   "outputs": [
    {
     "name": "stdout",
     "output_type": "stream",
     "text": [
      "T-statistic: 5.398028835705048\n",
      "P-value: 1.0859592786305662e-07\n"
     ]
    }
   ],
   "source": [
    "# Print the t-statistic and p-value\n",
    "print(f\"T-statistic: {t_stat}\")\n",
    "print(f\"P-value: {p_value}\")"
   ]
  },
  {
   "cell_type": "code",
   "execution_count": 348,
   "id": "fbc7e6b5",
   "metadata": {},
   "outputs": [
    {
     "name": "stdout",
     "output_type": "stream",
     "text": [
      "Reject the null hypothesis. There is a significant difference in age between patients with and without sepsis.\n"
     ]
    }
   ],
   "source": [
    "# Compare p-value to alpha to make a decision\n",
    "if p_value < alpha:\n",
    "    print(\"Reject the null hypothesis. There is a significant difference in age between patients with and without sepsis.\")\n",
    "else:\n",
    "    print(\"Fail to reject the null hypothesis. There is no significant difference in age between patients with and without sepsis.\")"
   ]
  },
  {
   "cell_type": "code",
   "execution_count": 349,
   "id": "403c588c",
   "metadata": {},
   "outputs": [
    {
     "data": {
      "text/plain": [
       "<Axes: xlabel='Age', ylabel='Count'>"
      ]
     },
     "execution_count": 349,
     "metadata": {},
     "output_type": "execute_result"
    },
    {
     "data": {
      "image/png": "[encoded data removed]",
      "text/plain": [
       "<Figure size 640x480 with 1 Axes>"
      ]
     },
     "metadata": {},
     "output_type": "display_data"
    }
   ],
   "source": [
    "sns.histplot(data=train_df,x='Age',hue='Sepssis',kde=True)"
   ]
  },
  {
   "cell_type": "markdown",
   "id": "053ad6e5",
   "metadata": {},
   "source": [
    "Data Cleaning "
   ]
  },
  {
   "cell_type": "code",
   "execution_count": 350,
   "id": "0d919553",
   "metadata": {},
   "outputs": [
    {
     "data": {
      "text/plain": [
       "Index(['ID', 'PRG', 'PL', 'PR', 'SK', 'TS', 'M11', 'BD2', 'Age', 'Insurance',\n",
       "       'Sepssis'],\n",
       "      dtype='object')"
      ]
     },
     "execution_count": 350,
     "metadata": {},
     "output_type": "execute_result"
    }
   ],
   "source": [
    "#showing the columns\n",
    "train_df.columns"
   ]
  },
  {
   "cell_type": "code",
   "execution_count": 351,
   "id": "e29d4cf9",
   "metadata": {},
   "outputs": [],
   "source": [
    "#dropping the ID column\n",
    "train_df.drop(['ID'], axis=1, inplace=True)"
   ]
  },
  {
   "cell_type": "code",
   "execution_count": 352,
   "id": "a9a61a0c",
   "metadata": {},
   "outputs": [
    {
     "name": "stdout",
     "output_type": "stream",
     "text": [
      "Index(['PRG', 'PL', 'PR', 'SK', 'TS', 'M11', 'BD2', 'Age', 'Insurance',\n",
      "       'Sepssis'],\n",
      "      dtype='object')\n"
     ]
    }
   ],
   "source": [
    "print(train_df.columns)"
   ]
  },
  {
   "cell_type": "code",
   "execution_count": 353,
   "id": "8294ade6",
   "metadata": {},
   "outputs": [],
   "source": [
    "#correcting the typo in Sepsis column\n",
    "train_df.rename(columns={'Sepssis': 'Sepsis'}, inplace=True)"
   ]
  },
  {
   "cell_type": "code",
   "execution_count": 354,
   "id": "4b158558",
   "metadata": {},
   "outputs": [
    {
     "data": {
      "text/plain": [
       "PRG          0\n",
       "PL           0\n",
       "PR           0\n",
       "SK           0\n",
       "TS           0\n",
       "M11          0\n",
       "BD2          0\n",
       "Age          0\n",
       "Insurance    0\n",
       "Sepsis       0\n",
       "dtype: int64"
      ]
     },
     "execution_count": 354,
     "metadata": {},
     "output_type": "execute_result"
    }
   ],
   "source": [
    "train_df.isna().sum()"
   ]
  },
  {
   "cell_type": "code",
   "execution_count": 355,
   "id": "42006f9e",
   "metadata": {},
   "outputs": [],
   "source": [
    "#creating dataframe copy\n",
    "train_df_copy=train_df.copy()"
   ]
  },
  {
   "cell_type": "code",
   "execution_count": 356,
   "id": "68c1e96d",
   "metadata": {},
   "outputs": [],
   "source": [
    "#maping the Sepsis column with Negative=0 and Positive =1\n",
    "train_df_copy=train_df['Sepsis'].map({'Negative':0,'Positive':1})"
   ]
  },
  {
   "cell_type": "code",
   "execution_count": 357,
   "id": "42fc66eb",
   "metadata": {},
   "outputs": [
    {
     "data": {
      "text/plain": [
       "0    1\n",
       "1    0\n",
       "2    1\n",
       "3    0\n",
       "4    1\n",
       "Name: Sepsis, dtype: int64"
      ]
     },
     "execution_count": 357,
     "metadata": {},
     "output_type": "execute_result"
    }
   ],
   "source": [
    "train_df_copy.head()"
   ]
  },
  {
   "cell_type": "markdown",
   "id": "40e46918",
   "metadata": {},
   "source": [
    "## Data Preparation"
   ]
  },
  {
   "cell_type": "code",
   "execution_count": 358,
   "id": "f1aef7a4",
   "metadata": {},
   "outputs": [
    {
     "data": {
      "text/html": [
       "<div>\n",
       "<style scoped>\n",
       "    .dataframe tbody tr th:only-of-type {\n",
       "        vertical-align: middle;\n",
       "    }\n",
       "\n",
       "    .dataframe tbody tr th {\n",
       "        vertical-align: top;\n",
       "    }\n",
       "\n",
       "    .dataframe thead th {\n",
       "        text-align: right;\n",
       "    }\n",
       "</style>\n",
       "<table border=\"1\" class=\"dataframe\">\n",
       "  <thead>\n",
       "    <tr style=\"text-align: right;\">\n",
       "      <th></th>\n",
       "      <th>Sepsis</th>\n",
       "      <th>sepsis_count</th>\n",
       "    </tr>\n",
       "  </thead>\n",
       "  <tbody>\n",
       "    <tr>\n",
       "      <th>0</th>\n",
       "      <td>Negative</td>\n",
       "      <td>391</td>\n",
       "    </tr>\n",
       "    <tr>\n",
       "      <th>1</th>\n",
       "      <td>Positive</td>\n",
       "      <td>208</td>\n",
       "    </tr>\n",
       "  </tbody>\n",
       "</table>\n",
       "</div>"
      ],
      "text/plain": [
       "     Sepsis  sepsis_count\n",
       "0  Negative           391\n",
       "1  Positive           208"
      ]
     },
     "execution_count": 358,
     "metadata": {},
     "output_type": "execute_result"
    }
   ],
   "source": [
    "#check if dataset is balanced\n",
    "sepsis_count = train_df['Sepsis'].value_counts().rename('sepsis_count').reset_index()\n",
    "sepsis_count"
   ]
  },
  {
   "cell_type": "code",
   "execution_count": 359,
   "id": "257602f0",
   "metadata": {},
   "outputs": [
    {
     "data": {
      "text/html": [
       "<div>\n",
       "<style scoped>\n",
       "    .dataframe tbody tr th:only-of-type {\n",
       "        vertical-align: middle;\n",
       "    }\n",
       "\n",
       "    .dataframe tbody tr th {\n",
       "        vertical-align: top;\n",
       "    }\n",
       "\n",
       "    .dataframe thead th {\n",
       "        text-align: right;\n",
       "    }\n",
       "</style>\n",
       "<table border=\"1\" class=\"dataframe\">\n",
       "  <thead>\n",
       "    <tr style=\"text-align: right;\">\n",
       "      <th></th>\n",
       "      <th>PRG</th>\n",
       "      <th>PL</th>\n",
       "      <th>BP</th>\n",
       "      <th>SK</th>\n",
       "      <th>TS</th>\n",
       "      <th>M11</th>\n",
       "      <th>BD2</th>\n",
       "      <th>Age</th>\n",
       "      <th>Insurance</th>\n",
       "      <th>Sepsis</th>\n",
       "    </tr>\n",
       "  </thead>\n",
       "  <tbody>\n",
       "    <tr>\n",
       "      <th>0</th>\n",
       "      <td>6</td>\n",
       "      <td>148</td>\n",
       "      <td>72</td>\n",
       "      <td>35</td>\n",
       "      <td>0</td>\n",
       "      <td>33.6</td>\n",
       "      <td>0.627</td>\n",
       "      <td>50</td>\n",
       "      <td>0</td>\n",
       "      <td>Positive</td>\n",
       "    </tr>\n",
       "    <tr>\n",
       "      <th>1</th>\n",
       "      <td>1</td>\n",
       "      <td>85</td>\n",
       "      <td>66</td>\n",
       "      <td>29</td>\n",
       "      <td>0</td>\n",
       "      <td>26.6</td>\n",
       "      <td>0.351</td>\n",
       "      <td>31</td>\n",
       "      <td>0</td>\n",
       "      <td>Negative</td>\n",
       "    </tr>\n",
       "    <tr>\n",
       "      <th>2</th>\n",
       "      <td>8</td>\n",
       "      <td>183</td>\n",
       "      <td>64</td>\n",
       "      <td>0</td>\n",
       "      <td>0</td>\n",
       "      <td>23.3</td>\n",
       "      <td>0.672</td>\n",
       "      <td>32</td>\n",
       "      <td>1</td>\n",
       "      <td>Positive</td>\n",
       "    </tr>\n",
       "    <tr>\n",
       "      <th>3</th>\n",
       "      <td>1</td>\n",
       "      <td>89</td>\n",
       "      <td>66</td>\n",
       "      <td>23</td>\n",
       "      <td>94</td>\n",
       "      <td>28.1</td>\n",
       "      <td>0.167</td>\n",
       "      <td>21</td>\n",
       "      <td>1</td>\n",
       "      <td>Negative</td>\n",
       "    </tr>\n",
       "    <tr>\n",
       "      <th>4</th>\n",
       "      <td>0</td>\n",
       "      <td>137</td>\n",
       "      <td>40</td>\n",
       "      <td>35</td>\n",
       "      <td>168</td>\n",
       "      <td>43.1</td>\n",
       "      <td>2.288</td>\n",
       "      <td>33</td>\n",
       "      <td>1</td>\n",
       "      <td>Positive</td>\n",
       "    </tr>\n",
       "  </tbody>\n",
       "</table>\n",
       "</div>"
      ],
      "text/plain": [
       "   PRG   PL  BP  SK   TS   M11    BD2  Age  Insurance    Sepsis\n",
       "0    6  148  72  35    0  33.6  0.627   50          0  Positive\n",
       "1    1   85  66  29    0  26.6  0.351   31          0  Negative\n",
       "2    8  183  64   0    0  23.3  0.672   32          1  Positive\n",
       "3    1   89  66  23   94  28.1  0.167   21          1  Negative\n",
       "4    0  137  40  35  168  43.1  2.288   33          1  Positive"
      ]
     },
     "execution_count": 359,
     "metadata": {},
     "output_type": "execute_result"
    }
   ],
   "source": [
    "# Renaming the seppsis, BMI and Blood pressure columns\n",
    "train = train_df.rename(columns={'M11': 'BMI'})\n",
    "train = train_df.rename(columns={'PR': 'BP'})\n",
    "\n",
    "# Test dataset\n",
    "test = test_df.rename(columns={'M11': 'BMI'})\n",
    "test = test_df.rename(columns={'PR': 'BP'})\n",
    "\n",
    "train.head()"
   ]
  },
  {
   "cell_type": "code",
   "execution_count": 360,
   "id": "93d58a0b",
   "metadata": {},
   "outputs": [],
   "source": [
    "#drop the ID column in the test dataset\n",
    "test.drop(['ID'],axis=1,inplace=True)"
   ]
  },
  {
   "cell_type": "code",
   "execution_count": 361,
   "id": "4a4263ea",
   "metadata": {},
   "outputs": [
    {
     "data": {
      "text/html": [
       "<div>\n",
       "<style scoped>\n",
       "    .dataframe tbody tr th:only-of-type {\n",
       "        vertical-align: middle;\n",
       "    }\n",
       "\n",
       "    .dataframe tbody tr th {\n",
       "        vertical-align: top;\n",
       "    }\n",
       "\n",
       "    .dataframe thead th {\n",
       "        text-align: right;\n",
       "    }\n",
       "</style>\n",
       "<table border=\"1\" class=\"dataframe\">\n",
       "  <thead>\n",
       "    <tr style=\"text-align: right;\">\n",
       "      <th></th>\n",
       "      <th>PRG</th>\n",
       "      <th>PL</th>\n",
       "      <th>BP</th>\n",
       "      <th>SK</th>\n",
       "      <th>TS</th>\n",
       "      <th>M11</th>\n",
       "      <th>BD2</th>\n",
       "      <th>Age</th>\n",
       "      <th>Insurance</th>\n",
       "    </tr>\n",
       "  </thead>\n",
       "  <tbody>\n",
       "    <tr>\n",
       "      <th>0</th>\n",
       "      <td>1</td>\n",
       "      <td>109</td>\n",
       "      <td>38</td>\n",
       "      <td>18</td>\n",
       "      <td>120</td>\n",
       "      <td>23.1</td>\n",
       "      <td>0.407</td>\n",
       "      <td>26</td>\n",
       "      <td>1</td>\n",
       "    </tr>\n",
       "    <tr>\n",
       "      <th>1</th>\n",
       "      <td>1</td>\n",
       "      <td>108</td>\n",
       "      <td>88</td>\n",
       "      <td>19</td>\n",
       "      <td>0</td>\n",
       "      <td>27.1</td>\n",
       "      <td>0.400</td>\n",
       "      <td>24</td>\n",
       "      <td>1</td>\n",
       "    </tr>\n",
       "    <tr>\n",
       "      <th>2</th>\n",
       "      <td>6</td>\n",
       "      <td>96</td>\n",
       "      <td>0</td>\n",
       "      <td>0</td>\n",
       "      <td>0</td>\n",
       "      <td>23.7</td>\n",
       "      <td>0.190</td>\n",
       "      <td>28</td>\n",
       "      <td>1</td>\n",
       "    </tr>\n",
       "    <tr>\n",
       "      <th>3</th>\n",
       "      <td>1</td>\n",
       "      <td>124</td>\n",
       "      <td>74</td>\n",
       "      <td>36</td>\n",
       "      <td>0</td>\n",
       "      <td>27.8</td>\n",
       "      <td>0.100</td>\n",
       "      <td>30</td>\n",
       "      <td>1</td>\n",
       "    </tr>\n",
       "    <tr>\n",
       "      <th>4</th>\n",
       "      <td>7</td>\n",
       "      <td>150</td>\n",
       "      <td>78</td>\n",
       "      <td>29</td>\n",
       "      <td>126</td>\n",
       "      <td>35.2</td>\n",
       "      <td>0.692</td>\n",
       "      <td>54</td>\n",
       "      <td>0</td>\n",
       "    </tr>\n",
       "  </tbody>\n",
       "</table>\n",
       "</div>"
      ],
      "text/plain": [
       "   PRG   PL  BP  SK   TS   M11    BD2  Age  Insurance\n",
       "0    1  109  38  18  120  23.1  0.407   26          1\n",
       "1    1  108  88  19    0  27.1  0.400   24          1\n",
       "2    6   96   0   0    0  23.7  0.190   28          1\n",
       "3    1  124  74  36    0  27.8  0.100   30          1\n",
       "4    7  150  78  29  126  35.2  0.692   54          0"
      ]
     },
     "execution_count": 361,
     "metadata": {},
     "output_type": "execute_result"
    }
   ],
   "source": [
    "test.head()"
   ]
  },
  {
   "cell_type": "code",
   "execution_count": 362,
   "id": "38211e6e",
   "metadata": {},
   "outputs": [
    {
     "data": {
      "text/html": [
       "<div>\n",
       "<style scoped>\n",
       "    .dataframe tbody tr th:only-of-type {\n",
       "        vertical-align: middle;\n",
       "    }\n",
       "\n",
       "    .dataframe tbody tr th {\n",
       "        vertical-align: top;\n",
       "    }\n",
       "\n",
       "    .dataframe thead th {\n",
       "        text-align: right;\n",
       "    }\n",
       "</style>\n",
       "<table border=\"1\" class=\"dataframe\">\n",
       "  <thead>\n",
       "    <tr style=\"text-align: right;\">\n",
       "      <th></th>\n",
       "      <th>PRG</th>\n",
       "      <th>PL</th>\n",
       "      <th>PR</th>\n",
       "      <th>SK</th>\n",
       "      <th>TS</th>\n",
       "      <th>M11</th>\n",
       "      <th>BD2</th>\n",
       "      <th>Age</th>\n",
       "      <th>Insurance</th>\n",
       "      <th>Sepsis</th>\n",
       "    </tr>\n",
       "  </thead>\n",
       "  <tbody>\n",
       "    <tr>\n",
       "      <th>0</th>\n",
       "      <td>6</td>\n",
       "      <td>148</td>\n",
       "      <td>72</td>\n",
       "      <td>35</td>\n",
       "      <td>0</td>\n",
       "      <td>33.6</td>\n",
       "      <td>0.627</td>\n",
       "      <td>50</td>\n",
       "      <td>0</td>\n",
       "      <td>Positive</td>\n",
       "    </tr>\n",
       "    <tr>\n",
       "      <th>1</th>\n",
       "      <td>1</td>\n",
       "      <td>85</td>\n",
       "      <td>66</td>\n",
       "      <td>29</td>\n",
       "      <td>0</td>\n",
       "      <td>26.6</td>\n",
       "      <td>0.351</td>\n",
       "      <td>31</td>\n",
       "      <td>0</td>\n",
       "      <td>Negative</td>\n",
       "    </tr>\n",
       "    <tr>\n",
       "      <th>2</th>\n",
       "      <td>8</td>\n",
       "      <td>183</td>\n",
       "      <td>64</td>\n",
       "      <td>0</td>\n",
       "      <td>0</td>\n",
       "      <td>23.3</td>\n",
       "      <td>0.672</td>\n",
       "      <td>32</td>\n",
       "      <td>1</td>\n",
       "      <td>Positive</td>\n",
       "    </tr>\n",
       "    <tr>\n",
       "      <th>3</th>\n",
       "      <td>1</td>\n",
       "      <td>89</td>\n",
       "      <td>66</td>\n",
       "      <td>23</td>\n",
       "      <td>94</td>\n",
       "      <td>28.1</td>\n",
       "      <td>0.167</td>\n",
       "      <td>21</td>\n",
       "      <td>1</td>\n",
       "      <td>Negative</td>\n",
       "    </tr>\n",
       "    <tr>\n",
       "      <th>4</th>\n",
       "      <td>0</td>\n",
       "      <td>137</td>\n",
       "      <td>40</td>\n",
       "      <td>35</td>\n",
       "      <td>168</td>\n",
       "      <td>43.1</td>\n",
       "      <td>2.288</td>\n",
       "      <td>33</td>\n",
       "      <td>1</td>\n",
       "      <td>Positive</td>\n",
       "    </tr>\n",
       "  </tbody>\n",
       "</table>\n",
       "</div>"
      ],
      "text/plain": [
       "   PRG   PL  PR  SK   TS   M11    BD2  Age  Insurance    Sepsis\n",
       "0    6  148  72  35    0  33.6  0.627   50          0  Positive\n",
       "1    1   85  66  29    0  26.6  0.351   31          0  Negative\n",
       "2    8  183  64   0    0  23.3  0.672   32          1  Positive\n",
       "3    1   89  66  23   94  28.1  0.167   21          1  Negative\n",
       "4    0  137  40  35  168  43.1  2.288   33          1  Positive"
      ]
     },
     "execution_count": 362,
     "metadata": {},
     "output_type": "execute_result"
    }
   ],
   "source": [
    "train_df.head()"
   ]
  },
  {
   "cell_type": "markdown",
   "id": "64d97e29",
   "metadata": {},
   "source": [
    "## Feature Encoding"
   ]
  },
  {
   "cell_type": "code",
   "execution_count": 363,
   "id": "db829a37",
   "metadata": {},
   "outputs": [],
   "source": [
    "def encode_target_variable(train_df, target_variable):\n",
    "    # Encode the target variable using LabelEncoder\n",
    "    label_encoder = LabelEncoder()\n",
    "    encoded_target = label_encoder.fit_transform(train_df[target_variable])\n",
    "    target_encoded = pd.DataFrame(encoded_target, columns=[target_variable])\n",
    "\n",
    "    # Combine the features and the encoded target variable\n",
    "    df = pd.concat([train_df.iloc[:, :-1], target_encoded], axis=1)\n",
    "\n",
    "    return df\n",
    "\n"
   ]
  },
  {
   "cell_type": "code",
   "execution_count": 364,
   "id": "25403482",
   "metadata": {},
   "outputs": [
    {
     "name": "stdout",
     "output_type": "stream",
     "text": [
      "   PRG   PL  PR  SK   TS   M11    BD2  Age  Insurance  Sepsis\n",
      "0    6  148  72  35    0  33.6  0.627   50          0       1\n",
      "1    1   85  66  29    0  26.6  0.351   31          0       0\n",
      "2    8  183  64   0    0  23.3  0.672   32          1       1\n",
      "3    1   89  66  23   94  28.1  0.167   21          1       0\n",
      "4    0  137  40  35  168  43.1  2.288   33          1       1\n"
     ]
    }
   ],
   "source": [
    "# Encode target variable in train data\n",
    "train_encoded = encode_target_variable(train_df, 'Sepsis')\n",
    "\n",
    "# Print the encoded train data\n",
    "print(train_encoded.head())"
   ]
  },
  {
   "cell_type": "markdown",
   "id": "01d19e61",
   "metadata": {},
   "source": [
    "## Dataset Splitting"
   ]
  },
  {
   "cell_type": "code",
   "execution_count": 409,
   "id": "ac4ef6dc",
   "metadata": {},
   "outputs": [],
   "source": [
    "def split_data(X, y, test_size, random_state=42, stratify=None):\n",
    "    # Split the data into train and validation sets\n",
    "    X_train, X_eval, y_train, y_eval= train_test_split(X, y, test_size=test_size, random_state=random_state, stratify=stratify)\n",
    "\n",
    "    return X_train, X_eval, y_train, y_eval"
   ]
  },
  {
   "cell_type": "code",
   "execution_count": 410,
   "id": "ff7179d9",
   "metadata": {},
   "outputs": [],
   "source": [
    "# Split the data into train and validation sets for both X and y\n",
    "X_train, X_eval, y_train, y_eval= split_data(train_encoded.iloc[:, :-1], train_encoded.iloc[:, -1:], test_size=0.2, random_state=42, stratify=train_encoded.iloc[:, -1:])\n"
   ]
  },
  {
   "cell_type": "markdown",
   "id": "2b9e5055",
   "metadata": {},
   "source": [
    "## Features Scaling"
   ]
  },
  {
   "cell_type": "code",
   "execution_count": 367,
   "id": "08b79503",
   "metadata": {},
   "outputs": [],
   "source": [
    "scaler = StandardScaler()\n",
    "scaler.fit(X_train)\n",
    "\n",
    "columns = ['PRG','PL','PR','SK','TS','M11','BD2','Age','Insurance']\n",
    "\n",
    "def scale_data(data, scaler, columns):\n",
    "    scaled_data = scaler.transform(data)\n",
    "    scaled_df = pd.DataFrame(scaled_data, columns=columns)\n",
    "    return scaled_df"
   ]
  },
  {
   "cell_type": "code",
   "execution_count": 368,
   "id": "46b04646",
   "metadata": {},
   "outputs": [],
   "source": [
    "# Scale the data\n",
    "X_train_df = scale_data(X_train, scaler, columns)\n",
    "X_eval_df = scale_data(X_eval, scaler, columns)"
   ]
  },
  {
   "cell_type": "markdown",
   "id": "7699a603",
   "metadata": {},
   "source": [
    "Machine Learning Modeling\n",
    "\n",
    "Here is the section to build, train, evaluate and compare the models to each others."
   ]
  },
  {
   "cell_type": "code",
   "execution_count": 369,
   "id": "c4eaad2b",
   "metadata": {},
   "outputs": [],
   "source": [
    "def logistic_regression_model(X_train, y_train, X_eval, y_eval):\n",
    "    # Fit logistic regression model\n",
    "    lr_model = LogisticRegression()\n",
    "    lr_model.fit(X_train, y_train)\n",
    "\n",
    "    # Make predictions on the evaluation set\n",
    "    lr_preds = lr_model.predict(X_eval)\n",
    "\n",
    "    # Calculate F1 score\n",
    "    lr_f1_score = f1_score(y_eval, lr_preds)\n",
    "\n",
    "    # Calculate false positive rate, true positive rate, and thresholds using roc_curve\n",
    "    fpr, tpr, thresholds = roc_curve(y_eval, lr_preds)\n",
    "\n",
    "    # Calculate AUC score\n",
    "    lr_auc_score = roc_auc_score(y_eval, lr_preds)\n",
    "\n",
    "    return lr_model, lr_preds, lr_f1_score, fpr, tpr, thresholds, lr_auc_score"
   ]
  },
  {
   "cell_type": "code",
   "execution_count": 370,
   "id": "18aa8654",
   "metadata": {},
   "outputs": [
    {
     "name": "stdout",
     "output_type": "stream",
     "text": [
      "F1 Score: 0.6265060240963856\n",
      "AUC Score: 0.7133699633699634\n"
     ]
    }
   ],
   "source": [
    "# Call the function and get the outputs\n",
    "lr_model, lr_preds, lr_f1_score, fpr, tpr, thresholds, lr_auc_score = logistic_regression_model(X_train_df, y_train, X_eval_df, y_eval)\n",
    "\n",
    "print(\"F1 Score:\", lr_f1_score)\n",
    "print(\"AUC Score:\", lr_auc_score)"
   ]
  },
  {
   "cell_type": "code",
   "execution_count": 371,
   "id": "60e131ab",
   "metadata": {},
   "outputs": [
    {
     "data": {
      "image/png": "[encoded data removed]",
      "text/plain": [
       "<Figure size 640x480 with 1 Axes>"
      ]
     },
     "metadata": {},
     "output_type": "display_data"
    }
   ],
   "source": [
    "# Plot the ROC curve\n",
    "plt.figure()\n",
    "plt.plot(fpr, tpr, label='ROC curve (AUC = %0.2f)' % lr_auc_score)\n",
    "plt.plot([0, 1], [0, 1], 'k--')  # diagonal line\n",
    "plt.xlabel('False Positive Rate')\n",
    "plt.ylabel('True Positive Rate')\n",
    "plt.title('(ROC) Curve for Logistic Regression')\n",
    "plt.legend(loc='lower right')\n",
    "plt.show()"
   ]
  },
  {
   "cell_type": "markdown",
   "id": "a585bec4",
   "metadata": {},
   "source": [
    "Checking for overfitting"
   ]
  },
  {
   "cell_type": "code",
   "execution_count": 372,
   "id": "deec4265",
   "metadata": {},
   "outputs": [
    {
     "name": "stdout",
     "output_type": "stream",
     "text": [
      "F1 Score on Training Set: 0.6486486486486487\n",
      "F1 Score on Evaluation Set: 0.6265060240963856\n"
     ]
    }
   ],
   "source": [
    "# Define the function to calculate F1 score\n",
    "def calculate_f1_score(model, X, y):\n",
    "    y_pred = model.predict(X)\n",
    "    return f1_score(y, y_pred)\n",
    "\n",
    "\n",
    "# Calculate F1 scores for training and evaluation sets\n",
    "lr_train_f1_score = calculate_f1_score(lr_model, X_train_df, y_train)\n",
    "lr_eval_f1_score = calculate_f1_score(lr_model, X_eval_df, y_eval)\n",
    "\n",
    "# Print the F1 scores\n",
    "print(\"F1 Score on Training Set:\", lr_train_f1_score)\n",
    "print(\"F1 Score on Evaluation Set:\", lr_eval_f1_score)"
   ]
  },
  {
   "cell_type": "code",
   "execution_count": 373,
   "id": "6821793d",
   "metadata": {},
   "outputs": [],
   "source": [
    "def calculate_f1_score(model, X, y):\n",
    "    predictions = model.predict(X)\n",
    "    f1 = f1_score(y, predictions)\n",
    "    return f1"
   ]
  },
  {
   "cell_type": "code",
   "execution_count": 374,
   "id": "498e36b7",
   "metadata": {},
   "outputs": [
    {
     "name": "stdout",
     "output_type": "stream",
     "text": [
      "F1 Score on Training Set: 0.6486486486486487\n",
      "F1 Score on Evaluation Set: 0.6265060240963856\n"
     ]
    }
   ],
   "source": [
    "# Calculate F1 scores for training and evaluation sets\n",
    "Lr_train_f1_score = calculate_f1_score(lr_model, X_train_df, y_train)\n",
    "lr_eval_f1_score = calculate_f1_score(lr_model, X_eval_df, y_eval)\n",
    "\n",
    "# Print the F1 scores\n",
    "print(\"F1 Score on Training Set:\", Lr_train_f1_score)\n",
    "print(\"F1 Score on Evaluation Set:\", lr_eval_f1_score)"
   ]
  },
  {
   "cell_type": "code",
   "execution_count": 375,
   "id": "3c801050",
   "metadata": {},
   "outputs": [],
   "source": [
    "def perform_cross_validation(model, X, y, cv=5, scoring='f1'):\n",
    "    # Perform cross-validation\n",
    "    cv_scores = cross_val_score(model, X, y, cv=cv, scoring=scoring)\n",
    "\n",
    "    # Calculate the average score\n",
    "    avg_score = np.mean(cv_scores)\n",
    "\n",
    "    return cv_scores, avg_score"
   ]
  },
  {
   "cell_type": "code",
   "execution_count": 376,
   "id": "525fe49f",
   "metadata": {},
   "outputs": [
    {
     "name": "stdout",
     "output_type": "stream",
     "text": [
      "Cross-Validation Scores: [0.6557377  0.64615385 0.65384615 0.55555556 0.70967742]\n",
      "Average F1 Score: 0.6441941359656855\n"
     ]
    }
   ],
   "source": [
    "# Perform cross-validation\n",
    "def perform_cross_validation(model, X, y, cv=5, scoring='f1'):\n",
    "    # Perform cross-validation\n",
    "    cv_scores = cross_val_score(model, X, y, cv=cv, scoring=scoring)\n",
    "\n",
    "    # Calculate the average score\n",
    "    avg_score = np.mean(cv_scores)\n",
    "\n",
    "    return cv_scores, avg_score\n",
    "# Call the function with your logistic regression model and train data\n",
    "cv_scores, avg_f1_score = perform_cross_validation(lr_model, X_train_df, y_train, cv=5, scoring='f1')\n",
    "# Print the cross-validation scores and average F1 score\n",
    "print(\"Cross-Validation Scores:\", cv_scores)\n",
    "print(\"Average F1 Score:\", avg_f1_score)"
   ]
  },
  {
   "cell_type": "code",
   "execution_count": 377,
   "id": "cefca16f",
   "metadata": {},
   "outputs": [],
   "source": [
    "def evaluate_decision_tree(X_train, y_train, X_eval, y_eval):\n",
    "    # Create and fit the decision tree classifier model\n",
    "    dt_model = DecisionTreeClassifier(random_state=42)\n",
    "    dt_model.fit(X_train, y_train)\n",
    "\n",
    "    # Make predictions on the evaluation set\n",
    "    dt_pred = dt_model.predict(X_eval)\n",
    "\n",
    "    # Calculate the F1 score\n",
    "    dt_f1_score = f1_score(y_eval, dt_pred)\n",
    "\n",
    "    # Calculate the false positive rate, true positive rate, and thresholds using roc_curve\n",
    "    fpr, tpr, thresholds = roc_curve(y_eval, dt_pred)\n",
    "\n",
    "    # Calculate the AUC (Area Under the Curve)\n",
    "    dt_auc_score = roc_auc_score(y_eval, dt_pred)\n",
    "    return dt_model, dt_pred, dt_f1_score, dt_auc_score"
   ]
  },
  {
   "cell_type": "code",
   "execution_count": 378,
   "id": "0d1ad605",
   "metadata": {},
   "outputs": [
    {
     "name": "stdout",
     "output_type": "stream",
     "text": [
      "F1 Score: 0.6024096385542169\n",
      "AUC Score: 0.6950549450549451\n"
     ]
    }
   ],
   "source": [
    "# Call the function with your train and evaluation data\n",
    "dt_model, dt_pred, dt_f1_score, dt_auc_score = evaluate_decision_tree(X_train_df, y_train, X_eval_df, y_eval)\n",
    "\n",
    "print(\"F1 Score:\", dt_f1_score)\n",
    "print(\"AUC Score:\", dt_auc_score)"
   ]
  },
  {
   "cell_type": "code",
   "execution_count": 379,
   "id": "7b47facf",
   "metadata": {},
   "outputs": [
    {
     "data": {
      "image/png": "[encoded data removed]",
      "text/plain": [
       "<Figure size 640x480 with 1 Axes>"
      ]
     },
     "metadata": {},
     "output_type": "display_data"
    }
   ],
   "source": [
    "# Plot the ROC curve\n",
    "plt.figure()\n",
    "plt.plot(fpr, tpr, label='ROC curve (AUC = %0.2f)' % dt_auc_score)\n",
    "plt.plot([0, 1], [0, 1], 'k--')  # diagonal line\n",
    "plt.xlabel('False Positive Rate')\n",
    "plt.ylabel('True Positive Rate')\n",
    "plt.title('(ROC) Curve for decision Tree Classifier')\n",
    "plt.legend(loc='lower right')\n",
    "plt.show()\n"
   ]
  },
  {
   "cell_type": "markdown",
   "id": "9bd80ec8",
   "metadata": {},
   "source": [
    "Checking for overfitting"
   ]
  },
  {
   "cell_type": "code",
   "execution_count": 380,
   "id": "5faacfbb",
   "metadata": {},
   "outputs": [
    {
     "name": "stdout",
     "output_type": "stream",
     "text": [
      "F1 Score on Training Set: 1.0\n",
      "F1 Score on Evaluation Set: 0.6024096385542169\n"
     ]
    }
   ],
   "source": [
    "# Calculate F1 scores for training and evaluation sets\n",
    "dt_train_f1_score = calculate_f1_score(dt_model, X_train_df, y_train)\n",
    "dt_eval_f1_score = calculate_f1_score(dt_model, X_eval_df, y_eval)\n",
    "\n",
    "# Print the F1 scores\n",
    "print(\"F1 Score on Training Set:\", dt_train_f1_score)\n",
    "print(\"F1 Score on Evaluation Set:\", dt_eval_f1_score)"
   ]
  },
  {
   "cell_type": "code",
   "execution_count": 381,
   "id": "029838a4",
   "metadata": {},
   "outputs": [
    {
     "name": "stdout",
     "output_type": "stream",
     "text": [
      "Cross-Validation Scores: [0.49180328 0.57142857 0.43636364 0.58461538 0.4516129 ]\n",
      "Average F1 Score: 0.5071647548643846\n"
     ]
    }
   ],
   "source": [
    "# Call the function with your logistic regression model and train data\n",
    "cv_scores, avg_f1_score = perform_cross_validation(dt_model, X_train_df, y_train, cv=5, scoring='f1')\n",
    "# Print the cross-validation scores and average F1 score\n",
    "print(\"Cross-Validation Scores:\", cv_scores)\n",
    "print(\"Average F1 Score:\", avg_f1_score)"
   ]
  },
  {
   "cell_type": "code",
   "execution_count": 382,
   "id": "ec7c4f4d",
   "metadata": {},
   "outputs": [],
   "source": [
    "def random_forest_model(X_train, y_train, X_eval, y_eval):\n",
    "    # Fit Random Forest model\n",
    "    rf_model = RandomForestClassifier(random_state=42)\n",
    "    rf_model.fit(X_train, y_train)\n",
    "\n",
    "    # Make predictions on the evaluation set\n",
    "    rf_preds = rf_model.predict(X_eval)\n",
    "\n",
    "    # Calculate F1 score\n",
    "    rf_f1_score = f1_score(y_eval, rf_preds)\n",
    "\n",
    "    # Calculate false positive rate, true positive rate, and thresholds using roc_curve\n",
    "    fpr, tpr, thresholds = roc_curve(y_eval, rf_preds)\n",
    "\n",
    "    # Calculate AUC score\n",
    "    rf_auc_score = roc_auc_score(y_eval, rf_preds)\n",
    "\n",
    "    return rf_model, rf_preds, rf_f1_score, fpr, tpr, thresholds, rf_auc_score"
   ]
  },
  {
   "cell_type": "code",
   "execution_count": 383,
   "id": "de7a717f",
   "metadata": {},
   "outputs": [
    {
     "name": "stdout",
     "output_type": "stream",
     "text": [
      "F1 Score: 0.5783132530120482\n",
      "AUC Score: 0.6767399267399268\n"
     ]
    }
   ],
   "source": [
    "rf_model, rf_preds, rf_f1_score, fpr, tpr, thresholds, rf_auc_score = random_forest_model(X_train, y_train, X_eval, y_eval)\n",
    "\n",
    "print(\"F1 Score:\", rf_f1_score)\n",
    "print(\"AUC Score:\", rf_auc_score)"
   ]
  },
  {
   "cell_type": "code",
   "execution_count": 384,
   "id": "d480d8db",
   "metadata": {},
   "outputs": [
    {
     "data": {
      "image/png": "[encoded data removed]",
      "text/plain": [
       "<Figure size 640x480 with 1 Axes>"
      ]
     },
     "metadata": {},
     "output_type": "display_data"
    }
   ],
   "source": [
    "# Plot the ROC curve\n",
    "plt.figure()\n",
    "plt.plot(fpr, tpr, label='ROC curve (AUC = %0.2f)' % rf_auc_score)\n",
    "plt.plot([0, 1], [0, 1], 'k--')  # diagonal line\n",
    "plt.xlabel('False Positive Rate')\n",
    "plt.ylabel('True Positive Rate')\n",
    "plt.title('(ROC) Curve for Randon Forest Classifier')\n",
    "plt.legend(loc='lower right')\n",
    "plt.show()"
   ]
  },
  {
   "cell_type": "code",
   "execution_count": 385,
   "id": "c9627f03",
   "metadata": {},
   "outputs": [
    {
     "name": "stdout",
     "output_type": "stream",
     "text": [
      "F1 Score on Training Set based on Random Forest: 0.0\n",
      "F1 Score on Evaluation Set based on Random Forest: 0.0\n"
     ]
    }
   ],
   "source": [
    "# Calculate F1 scores for training and evaluation sets\n",
    "rf_train_f1_score = calculate_f1_score(rf_model, X_train_df, y_train)\n",
    "rf_eval_f1_score = calculate_f1_score(rf_model, X_eval_df, y_eval)\n",
    "\n",
    "# Print the F1 scores\n",
    "print(\"F1 Score on Training Set based on Random Forest:\", rf_train_f1_score)\n",
    "print(\"F1 Score on Evaluation Set based on Random Forest:\", rf_eval_f1_score)"
   ]
  },
  {
   "cell_type": "code",
   "execution_count": 386,
   "id": "fe005f48",
   "metadata": {},
   "outputs": [
    {
     "name": "stdout",
     "output_type": "stream",
     "text": [
      "Cross-Validation Scores: [0.73846154 0.65671642 0.54901961 0.54545455 0.61290323]\n",
      "Average F1 Score: 0.6205110670952242\n"
     ]
    }
   ],
   "source": [
    "# Call the function with your Random Forest model and train data\n",
    "cv_scores, avg_f1_score = perform_cross_validation(rf_model, X_train_df, y_train, cv=5, scoring='f1')\n",
    "# Print the cross-validation scores and average F1 score\n",
    "print(\"Cross-Validation Scores:\", cv_scores)\n",
    "print(\"Average F1 Score:\", avg_f1_score)"
   ]
  },
  {
   "cell_type": "code",
   "execution_count": 387,
   "id": "9b185808",
   "metadata": {},
   "outputs": [],
   "source": [
    "def xgboost_model(X_train, y_train, X_eval, y_eval):\n",
    "    # Fit XGBoost model\n",
    "    xgb_model = XGBClassifier()\n",
    "    xgb_model.fit(X_train, y_train)\n",
    "\n",
    "    # Make predictions on the evaluation set\n",
    "    xgb_preds = xgb_model.predict(X_eval)\n",
    "\n",
    "    # Calculate F1 score\n",
    "    xgb_f1_score = f1_score(y_eval, xgb_preds)\n",
    "\n",
    "    # Calculate false positive rate, true positive rate, and thresholds using roc_curve\n",
    "    fpr, tpr, thresholds = roc_curve(y_eval, xgb_preds)\n",
    "\n",
    "    # Calculate AUC score\n",
    "    xgb_auc_score = roc_auc_score(y_eval, xgb_preds)\n",
    "\n",
    "    return xgb_model, xgb_preds, xgb_f1_score, fpr, tpr, thresholds, xgb_auc_score"
   ]
  },
  {
   "cell_type": "code",
   "execution_count": 388,
   "id": "12c3c24e",
   "metadata": {},
   "outputs": [
    {
     "name": "stdout",
     "output_type": "stream",
     "text": [
      "F1 Score on Evaluation Set based on XGBoost: 0.5882352941176471\n",
      "AUC Score on Evaluation Set based on XGBoost: 0.6822344322344323\n"
     ]
    }
   ],
   "source": [
    "xgb_model, xgb_preds, xgb_f1_score, fpr, tpr, thresholds, xgb_auc_score = xgboost_model(X_train_df, y_train, X_eval_df, y_eval)\n",
    "\n",
    "# Print the F1 score and AUC score\n",
    "print(\"F1 Score on Evaluation Set based on XGBoost:\", xgb_f1_score)\n",
    "print(\"AUC Score on Evaluation Set based on XGBoost:\", xgb_auc_score)"
   ]
  },
  {
   "cell_type": "code",
   "execution_count": 389,
   "id": "278505f1",
   "metadata": {},
   "outputs": [
    {
     "data": {
      "image/png": "[encoded data removed]",
      "text/plain": [
       "<Figure size 640x480 with 1 Axes>"
      ]
     },
     "metadata": {},
     "output_type": "display_data"
    }
   ],
   "source": [
    "# Plot the ROC curve\n",
    "plt.figure()\n",
    "plt.plot(fpr, tpr, label='ROC curve (AUC = %0.2f)' % xgb_auc_score)\n",
    "plt.plot([0, 1], [0, 1], 'k--')  # diagonal line\n",
    "plt.xlabel('False Positive Rate')\n",
    "plt.ylabel('True Positive Rate')\n",
    "plt.title('(ROC) Curve for XGBoost Classifier')\n",
    "plt.legend(loc='lower right')\n",
    "plt.show()"
   ]
  },
  {
   "cell_type": "code",
   "execution_count": 390,
   "id": "a34d6412",
   "metadata": {},
   "outputs": [
    {
     "name": "stdout",
     "output_type": "stream",
     "text": [
      "F1 Score on Training Set based on XGboost: 1.0\n",
      "F1 Score on Evaluation Set based on XGboost: 0.5882352941176471\n"
     ]
    }
   ],
   "source": [
    "# Calculate F1 scores for training and evaluation sets\n",
    "xgb_train_f1_score = calculate_f1_score(xgb_model, X_train_df, y_train)\n",
    "xgb_eval_f1_score = calculate_f1_score(xgb_model, X_eval_df, y_eval)\n",
    "\n",
    "# Print the F1 scores\n",
    "print(\"F1 Score on Training Set based on XGboost:\", xgb_train_f1_score)\n",
    "print(\"F1 Score on Evaluation Set based on XGboost:\", xgb_eval_f1_score)"
   ]
  },
  {
   "cell_type": "code",
   "execution_count": 391,
   "id": "f138155b",
   "metadata": {},
   "outputs": [
    {
     "name": "stdout",
     "output_type": "stream",
     "text": [
      "Cross-Validation Scores based on XGboost: [0.65671642 0.67647059 0.5        0.56666667 0.60606061]\n",
      "Average F1 Score based on XGboost: 0.601182855774603\n"
     ]
    }
   ],
   "source": [
    "# Call the function with your XGboost model and train data\n",
    "cv_scores, avg_f1_score = perform_cross_validation(xgb_model, X_train_df, y_train, cv=5, scoring='f1')\n",
    "# Print the cross-validation scores and average F1 score\n",
    "print(\"Cross-Validation Scores based on XGboost:\", cv_scores)\n",
    "print(\"Average F1 Score based on XGboost:\", avg_f1_score)"
   ]
  },
  {
   "cell_type": "code",
   "execution_count": 392,
   "id": "10c202b5",
   "metadata": {},
   "outputs": [],
   "source": [
    "def naive_bayes_model(X_train, y_train, X_eval, y_eval):\n",
    "    # Fit Naive Bayes model\n",
    "    nb_model = GaussianNB()\n",
    "    nb_model.fit(X_train, y_train)\n",
    "\n",
    "    # Make predictions on the evaluation set\n",
    "    nb_preds = nb_model.predict(X_eval)\n",
    "\n",
    "    # Calculate F1 score\n",
    "    nb_f1_score = f1_score(y_eval, nb_preds)\n",
    "\n",
    "    # Calculate false positive rate, true positive rate, and thresholds using roc_curve\n",
    "    fpr, tpr, thresholds = roc_curve(y_eval, nb_preds)\n",
    "\n",
    "    # Calculate AUC score\n",
    "    nb_auc_score = roc_auc_score(y_eval, nb_preds)\n",
    "\n",
    "    return nb_model, nb_preds, nb_f1_score, fpr, tpr, thresholds, nb_auc_score"
   ]
  },
  {
   "cell_type": "code",
   "execution_count": 393,
   "id": "b3627aa3",
   "metadata": {},
   "outputs": [
    {
     "name": "stdout",
     "output_type": "stream",
     "text": [
      "F1 Score on Evaluation Set based on Naive Bayes: 0.5747126436781609\n",
      "AUC Score on Evaluation Set based on Naive Bayes: 0.6694139194139194\n"
     ]
    }
   ],
   "source": [
    "nb_model, nb_preds, nb_f1_score, fpr, tpr, thresholds, nb_auc_score = naive_bayes_model(X_train_df, y_train, X_eval_df, y_eval)\n",
    "\n",
    "# Print the F1 score and AUC score\n",
    "print(\"F1 Score on Evaluation Set based on Naive Bayes:\", nb_f1_score)\n",
    "print(\"AUC Score on Evaluation Set based on Naive Bayes:\", nb_auc_score)"
   ]
  },
  {
   "cell_type": "code",
   "execution_count": 394,
   "id": "ada8b756",
   "metadata": {},
   "outputs": [
    {
     "data": {
      "image/png": "[encoded data removed]",
      "text/plain": [
       "<Figure size 640x480 with 1 Axes>"
      ]
     },
     "metadata": {},
     "output_type": "display_data"
    }
   ],
   "source": [
    "# Plot the ROC curve\n",
    "plt.figure()\n",
    "plt.plot(fpr, tpr, label='ROC curve (AUC = %0.2f)' % nb_auc_score)\n",
    "plt.plot([0, 1], [0, 1], 'k--')  # diagonal line\n",
    "plt.xlabel('False Positive Rate')\n",
    "plt.ylabel('True Positive Rate')\n",
    "plt.title('(ROC) Curve for Naive Bayes Model')\n",
    "plt.legend(loc='lower right')\n",
    "plt.show()"
   ]
  },
  {
   "cell_type": "code",
   "execution_count": 395,
   "id": "2816c276",
   "metadata": {},
   "outputs": [
    {
     "name": "stdout",
     "output_type": "stream",
     "text": [
      "F1 Score on Training Set based on Naive Bayes: 0.6730769230769231\n",
      "F1 Score on Evaluation Set based on Naive Bayes: 0.5747126436781609\n"
     ]
    }
   ],
   "source": [
    "# Calculate F1 scores for training and evaluation sets\n",
    "nb_train_f1_score = calculate_f1_score(nb_model, X_train_df, y_train)\n",
    "nb_eval_f1_score = calculate_f1_score(nb_model, X_eval_df, y_eval)\n",
    "\n",
    "# Print the F1 scores\n",
    "print(\"F1 Score on Training Set based on Naive Bayes:\", nb_train_f1_score)\n",
    "print(\"F1 Score on Evaluation Set based on Naive Bayes:\", nb_eval_f1_score)"
   ]
  },
  {
   "cell_type": "code",
   "execution_count": 396,
   "id": "ca4d7be0",
   "metadata": {},
   "outputs": [
    {
     "name": "stdout",
     "output_type": "stream",
     "text": [
      "Cross-Validation Scores based on Naive Bayes model: [0.70769231 0.6        0.7        0.63157895 0.67741935]\n",
      "Average F1 Score based on Naive Bayes model: 0.6633381219798877\n"
     ]
    }
   ],
   "source": [
    "# Call the function with your Naive Bayes model and train data\n",
    "cv_scores, avg_f1_score = perform_cross_validation(nb_model, X_train_df, y_train, cv=5, scoring='f1')\n",
    "# Print the cross-validation scores and average F1 score\n",
    "print(\"Cross-Validation Scores based on Naive Bayes model:\", cv_scores)\n",
    "print(\"Average F1 Score based on Naive Bayes model:\", avg_f1_score)"
   ]
  },
  {
   "cell_type": "code",
   "execution_count": 397,
   "id": "baa38eb4",
   "metadata": {},
   "outputs": [],
   "source": [
    "def sgd_model_func(X_train, y_train, X_eval, y_eval):\n",
    "    # Fit SGD model\n",
    "    sgd_model = SGDClassifier()\n",
    "    sgd_model.fit(X_train, y_train)\n",
    "\n",
    "    # Make predictions on the evaluation set\n",
    "    sgd_preds = sgd_model.predict(X_eval)\n",
    "\n",
    "    # Calculate F1 score\n",
    "    sgd_f1_score = f1_score(y_eval, sgd_preds)\n",
    "\n",
    "    # Calculate false positive rate, true positive rate, and thresholds using roc_curve\n",
    "    fpr, tpr, thresholds = roc_curve(y_eval, sgd_preds)\n",
    "\n",
    "    # Calculate AUC score\n",
    "    sgd_auc_score = roc_auc_score(y_eval, sgd_preds)\n",
    "\n",
    "    return sgd_model, sgd_preds, sgd_f1_score, fpr, tpr, thresholds, sgd_auc_score"
   ]
  },
  {
   "cell_type": "code",
   "execution_count": 398,
   "id": "5a97598d",
   "metadata": {},
   "outputs": [
    {
     "name": "stdout",
     "output_type": "stream",
     "text": [
      "F1 Score on Evaluation Set based on SGD: 0.5494505494505495\n",
      "AUC Score on Evaluation Set based on SGD: 0.6437728937728938\n"
     ]
    }
   ],
   "source": [
    "sgd_model, sgd_preds, sgd_f1_score, fpr, tpr, thresholds, sgd_auc_score = sgd_model_func(X_train_df, y_train, X_eval_df, y_eval)\n",
    "\n",
    "# Print the F1 score and AUC score\n",
    "print(\"F1 Score on Evaluation Set based on SGD:\", sgd_f1_score)\n",
    "print(\"AUC Score on Evaluation Set based on SGD:\", sgd_auc_score)"
   ]
  },
  {
   "cell_type": "code",
   "execution_count": 399,
   "id": "f17d2aa7",
   "metadata": {},
   "outputs": [
    {
     "data": {
      "image/png": "[encoded data removed]",
      "text/plain": [
       "<Figure size 640x480 with 1 Axes>"
      ]
     },
     "metadata": {},
     "output_type": "display_data"
    }
   ],
   "source": [
    "# Plot the ROC curve\n",
    "plt.figure()\n",
    "plt.plot(fpr, tpr, label='ROC curve (AUC = %0.2f)' % sgd_auc_score)\n",
    "plt.plot([0, 1], [0, 1], 'k--')  # diagonal line\n",
    "plt.xlabel('False Positive Rate')\n",
    "plt.ylabel('True Positive Rate')\n",
    "plt.title('(ROC) Curve for SGDClassifier')\n",
    "plt.legend(loc='lower right')\n",
    "plt.show()"
   ]
  },
  {
   "cell_type": "code",
   "execution_count": 400,
   "id": "129ed26f",
   "metadata": {},
   "outputs": [
    {
     "name": "stdout",
     "output_type": "stream",
     "text": [
      "F1 Score on Training Set based on SGDClassifier: 0.5714285714285714\n",
      "F1 Score on Evaluation Set based on SGDClassifier: 0.5494505494505495\n"
     ]
    }
   ],
   "source": [
    "sgd_train_f1_score = calculate_f1_score(sgd_model, X_train_df, y_train)\n",
    "sgd_eval_f1_score = calculate_f1_score(sgd_model, X_eval_df, y_eval)\n",
    "\n",
    "# Print the F1 scores\n",
    "print(\"F1 Score on Training Set based on SGDClassifier:\", sgd_train_f1_score)\n",
    "print(\"F1 Score on Evaluation Set based on SGDClassifier:\", sgd_eval_f1_score)"
   ]
  },
  {
   "cell_type": "code",
   "execution_count": 401,
   "id": "678ce524",
   "metadata": {},
   "outputs": [
    {
     "name": "stdout",
     "output_type": "stream",
     "text": [
      "Cross-Validation Scores based on Naive Bayes model: [0.63768116 0.60869565 0.62745098 0.45614035 0.67647059]\n",
      "Average F1 Score based on Naive Bayes model: 0.6012877462197693\n"
     ]
    }
   ],
   "source": [
    "# Call the function with your Naive Bayes model and train data\n",
    "cv_scores, avg_f1_score = perform_cross_validation(sgd_model, X_train_df, y_train, cv=5, scoring='f1')\n",
    "# Print the cross-validation scores and average F1 score\n",
    "print(\"Cross-Validation Scores based on Naive Bayes model:\", cv_scores)\n",
    "print(\"Average F1 Score based on Naive Bayes model:\", avg_f1_score)"
   ]
  },
  {
   "cell_type": "code",
   "execution_count": 402,
   "id": "dd1e1cc9",
   "metadata": {},
   "outputs": [
    {
     "data": {
      "text/html": [
       "<div>\n",
       "<style scoped>\n",
       "    .dataframe tbody tr th:only-of-type {\n",
       "        vertical-align: middle;\n",
       "    }\n",
       "\n",
       "    .dataframe tbody tr th {\n",
       "        vertical-align: top;\n",
       "    }\n",
       "\n",
       "    .dataframe thead th {\n",
       "        text-align: right;\n",
       "    }\n",
       "</style>\n",
       "<table border=\"1\" class=\"dataframe\">\n",
       "  <thead>\n",
       "    <tr style=\"text-align: right;\">\n",
       "      <th></th>\n",
       "      <th>model</th>\n",
       "      <th>f1_score</th>\n",
       "      <th>AUC_score</th>\n",
       "    </tr>\n",
       "  </thead>\n",
       "  <tbody>\n",
       "    <tr>\n",
       "      <th>3</th>\n",
       "      <td>Logistic Regression</td>\n",
       "      <td>0.626506</td>\n",
       "      <td>0.713370</td>\n",
       "    </tr>\n",
       "    <tr>\n",
       "      <th>0</th>\n",
       "      <td>Decision Tree</td>\n",
       "      <td>0.602410</td>\n",
       "      <td>0.695055</td>\n",
       "    </tr>\n",
       "    <tr>\n",
       "      <th>2</th>\n",
       "      <td>XGBoost</td>\n",
       "      <td>0.588235</td>\n",
       "      <td>0.682234</td>\n",
       "    </tr>\n",
       "    <tr>\n",
       "      <th>1</th>\n",
       "      <td>Random Forest</td>\n",
       "      <td>0.578313</td>\n",
       "      <td>0.676740</td>\n",
       "    </tr>\n",
       "    <tr>\n",
       "      <th>4</th>\n",
       "      <td>Naive Bayes</td>\n",
       "      <td>0.574713</td>\n",
       "      <td>0.669414</td>\n",
       "    </tr>\n",
       "    <tr>\n",
       "      <th>5</th>\n",
       "      <td>SGBoost</td>\n",
       "      <td>0.549451</td>\n",
       "      <td>0.643773</td>\n",
       "    </tr>\n",
       "  </tbody>\n",
       "</table>\n",
       "</div>"
      ],
      "text/plain": [
       "                 model  f1_score  AUC_score\n",
       "3  Logistic Regression  0.626506   0.713370\n",
       "0        Decision Tree  0.602410   0.695055\n",
       "2              XGBoost  0.588235   0.682234\n",
       "1        Random Forest  0.578313   0.676740\n",
       "4          Naive Bayes  0.574713   0.669414\n",
       "5              SGBoost  0.549451   0.643773"
      ]
     },
     "execution_count": 402,
     "metadata": {},
     "output_type": "execute_result"
    }
   ],
   "source": [
    "results_No_SMOTE= {'model':['Decision Tree','Random Forest','XGBoost','Logistic Regression','Naive Bayes','SGBoost'],\n",
    "         'f1_score':[dt_f1_score,rf_f1_score,xgb_f1_score,lr_f1_score,nb_f1_score,sgd_f1_score],\n",
    "         'AUC_score':[dt_auc_score,rf_auc_score,xgb_auc_score,lr_auc_score,nb_auc_score,sgd_auc_score]}\n",
    "\n",
    "results_No_SMOTE_df= pd.DataFrame(results_No_SMOTE)\n",
    "results_No_SMOTE_df_sorted = results_No_SMOTE_df.sort_values(by= 'AUC_score', ascending = False)\n",
    "results_No_SMOTE_df_sorted"
   ]
  },
  {
   "cell_type": "code",
   "execution_count": 403,
   "id": "9d108aa5",
   "metadata": {},
   "outputs": [
    {
     "data": {
      "image/png": "[encoded data removed]",
      "text/plain": [
       "<Figure size 1000x600 with 1 Axes>"
      ]
     },
     "metadata": {},
     "output_type": "display_data"
    }
   ],
   "source": [
    "# Create the bar plot using Seaborn\n",
    "plt.figure(figsize=(10, 6))\n",
    "sns.barplot(data=results_No_SMOTE_df_sorted, x='model', y='AUC_score', palette='viridis')\n",
    "\n",
    "# Add data labels\n",
    "for i, value in enumerate(results_No_SMOTE_df_sorted['AUC_score']):\n",
    "    plt.text(i, value, round(value, 2), ha='center', va='bottom')\n",
    "\n",
    "# Set other plot properties\n",
    "plt.xticks(rotation=45)\n",
    "plt.xlabel('Model')\n",
    "plt.ylabel('AUC Score')\n",
    "plt.title('Comparison of AUC Scores for Different Models')\n",
    "plt.tight_layout()\n",
    "plt.show()"
   ]
  },
  {
   "cell_type": "code",
   "execution_count": 411,
   "id": "3c7498e3",
   "metadata": {},
   "outputs": [
    {
     "name": "stdout",
     "output_type": "stream",
     "text": [
      "Numerical Imputer exported to: c:\\Users\\KEMUNTO\\Desktop\\sepsis_P5\\Sepsis_Prediction_FastAPI\\Assets\\numerical_imputer.joblib\n",
      "Scaler exported to: c:\\Users\\KEMUNTO\\Desktop\\sepsis_P5\\Sepsis_Prediction_FastAPI\\Assets\\scaler.joblib\n",
      "Logistic Regression Model exported to: c:\\Users\\KEMUNTO\\Desktop\\sepsis_P5\\Sepsis_Prediction_FastAPI\\Assets\\lr_model.joblib\n"
     ]
    }
   ],
   "source": [
    "# Get the current working directory\n",
    "cwd = os.getcwd()\n",
    "\n",
    "# Specify the relative path to the destination directory\n",
    "destination = os.path.join(cwd, \"Assets\")\n",
    "\n",
    "# Create the \"export\" directory if it doesn't exist\n",
    "os.makedirs(destination, exist_ok=True)\n",
    "\n",
    "# Export the numerical imputer\n",
    "imputer_filepath = os.path.join(destination, \"numerical_imputer.joblib\")\n",
    "dump(numerical_imputer, imputer_filepath)\n",
    "\n",
    "# Export the scaler\n",
    "scaler_filepath = os.path.join(destination, \"scaler.joblib\")\n",
    "dump(scaler, scaler_filepath)\n",
    "\n",
    "# Export the logistic regression model\n",
    "model_filepath = os.path.join(destination, \"lr_model.joblib\")\n",
    "dump(lr_model, model_filepath)\n",
    "\n",
    "# Print the paths to the exported components\n",
    "print(f\"Numerical Imputer exported to: {imputer_filepath}\")\n",
    "print(f\"Scaler exported to: {scaler_filepath}\")\n",
    "print(f\"Logistic Regression Model exported to: {model_filepath}\")"
   ]
  },
  {
   "cell_type": "code",
   "execution_count": 412,
   "id": "9aa5ea78",
   "metadata": {},
   "outputs": [],
   "source": [
    "!pip list --format=freeze >Assets/requirements.txt"
   ]
  }
 ],
 "metadata": {
  "kernelspec": {
   "display_name": "Python 3 (ipykernel)",
   "language": "python",
   "name": "python3"
  },
  "language_info": {
   "codemirror_mode": {
    "name": "ipython",
    "version": 3
   },
   "file_extension": ".py",
   "mimetype": "text/x-python",
   "name": "python",
   "nbconvert_exporter": "python",
   "pygments_lexer": "ipython3",
   "version": "3.11.5"
  }
 },
 "nbformat": 4,
 "nbformat_minor": 5
}
